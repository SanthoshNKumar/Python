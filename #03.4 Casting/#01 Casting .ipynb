{
 "cells": [
  {
   "cell_type": "code",
   "execution_count": 6,
   "metadata": {},
   "outputs": [
    {
     "name": "stdout",
     "output_type": "stream",
     "text": [
      "1 1 5\n"
     ]
    }
   ],
   "source": [
    "# To Integer\n",
    "x = int(1)\n",
    "y = int(1.2)\n",
    "z = int(\"5\")\n",
    "print(x,y,z,)"
   ]
  },
  {
   "cell_type": "code",
   "execution_count": 7,
   "metadata": {},
   "outputs": [],
   "source": [
    "# To Floats:\n",
    "x = float(1)     # x will be 1.0\n",
    "y = float(2.8)   # y will be 2.8\n",
    "z = float(\"3\")   # z will be 3.0\n",
    "w = float(\"4.2\") # w will be 4.2"
   ]
  },
  {
   "cell_type": "code",
   "execution_count": 8,
   "metadata": {},
   "outputs": [],
   "source": [
    "# To Strings\n",
    "x = str(\"s1\") # x will be 's1'\n",
    "y = str(2)    # y will be '2'\n",
    "z = str(3.0)  # z will be '3.0'"
   ]
  },
  {
   "cell_type": "code",
   "execution_count": null,
   "metadata": {},
   "outputs": [],
   "source": []
  },
  {
   "cell_type": "markdown",
   "metadata": {},
   "source": [
    "#### Type Conversion"
   ]
  },
  {
   "cell_type": "code",
   "execution_count": 1,
   "metadata": {},
   "outputs": [
    {
     "name": "stdout",
     "output_type": "stream",
     "text": [
      "2\n",
      "2\n",
      "4.2\n",
      "3.0\n",
      "('w', 'e', 'l', 'c', 'o', 'm', 'e')\n",
      "{'w', 'o', 'm', 'c', 'l', 'e'}\n",
      "['w', 'e', 'l', 'c', 'o', 'm', 'e']\n",
      "{'a': 1, 'f': 2, 'g': 3}\n",
      "(1+2j)\n"
     ]
    }
   ],
   "source": [
    "# Casting (Type Conversion)# Conversion of One data type to another\n",
    "\n",
    "# float to int\n",
    "x = int(2.8)\n",
    "print(x)\n",
    "\n",
    "# String to int\n",
    "x = int(\"2\")\n",
    "print(x)\n",
    "\n",
    "# Float to Int\n",
    "\n",
    "# int to String and float to string\n",
    "x = str(4.2)\n",
    "print(x)\n",
    "x= str(3.0)\n",
    "print(x)\n",
    "\n",
    "# ord() : haracter converting to integer \n",
    "\n",
    "# hex(56) : integer converting to hexadecimal string \n",
    "\n",
    "# oct(56) : integer converting to octal string \n",
    "\n",
    "\n",
    "# string to tuple :tuple()\n",
    "print(tuple(\"welcome\"))\n",
    "\n",
    "# string converting to set : set()\n",
    "print(set(\"welcome\"))\n",
    "\n",
    "# string converting to list :list()\n",
    "print(list(\"welcome\"))\n",
    "\n",
    "# Convert a tuple of order (key,value) into a dictionary.: dict()\n",
    "tup = (('a', 1) ,('f', 2), ('g', 3)) \n",
    "print(dict(tup))\n",
    "\n",
    "# converts real numbers to complex(real,imag) number.: complex(real,imag)\n",
    "c = complex(1,2) \n",
    "print(c)\n"
   ]
  },
  {
   "cell_type": "code",
   "execution_count": null,
   "metadata": {},
   "outputs": [],
   "source": []
  }
 ],
 "metadata": {
  "kernelspec": {
   "display_name": "Python 3",
   "language": "python",
   "name": "python3"
  },
  "language_info": {
   "codemirror_mode": {
    "name": "ipython",
    "version": 3
   },
   "file_extension": ".py",
   "mimetype": "text/x-python",
   "name": "python",
   "nbconvert_exporter": "python",
   "pygments_lexer": "ipython3",
   "version": "3.7.4"
  }
 },
 "nbformat": 4,
 "nbformat_minor": 2
}
