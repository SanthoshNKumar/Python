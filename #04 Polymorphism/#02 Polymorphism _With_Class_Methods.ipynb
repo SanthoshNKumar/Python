{
 "cells": [
  {
   "cell_type": "code",
   "execution_count": 1,
   "metadata": {},
   "outputs": [],
   "source": [
    "class India:\n",
    "    def capital(self):\n",
    "        print(\"New Delhi is the capital of india\")\n",
    "    def language(self):\n",
    "        print(\"kannada is the state language of karnataka\")\n",
    "    def type(self):\n",
    "        print(\"India is a developing country\")\n",
    "\n",
    "class USA:\n",
    "    def capital(self):\n",
    "        print(\"Washington,D.C. is the capital of USA\")\n",
    "    def language(self):\n",
    "        print(\"English is the primary language of USA\")\n",
    "    def type(self):\n",
    "        print(\"USA is a developed country\")\n"
   ]
  },
  {
   "cell_type": "code",
   "execution_count": 4,
   "metadata": {},
   "outputs": [
    {
     "name": "stdout",
     "output_type": "stream",
     "text": [
      "New Delhi is the capital of india\n",
      "kannada is the state language of karnataka\n",
      "India is a developing country\n",
      "Washington,D.C. is the capital of USA\n",
      "English is the primary language of USA\n",
      "USA is a developed country\n"
     ]
    }
   ],
   "source": [
    "objInd = India()\n",
    "objusa = USA()\n",
    "\n",
    "for country in (objInd,objusa):\n",
    "    country.capital()\n",
    "    country.language()\n",
    "    country.type()"
   ]
  },
  {
   "cell_type": "code",
   "execution_count": null,
   "metadata": {},
   "outputs": [],
   "source": []
  }
 ],
 "metadata": {
  "kernelspec": {
   "display_name": "Python 3",
   "language": "python",
   "name": "python3"
  },
  "language_info": {
   "codemirror_mode": {
    "name": "ipython",
    "version": 3
   },
   "file_extension": ".py",
   "mimetype": "text/x-python",
   "name": "python",
   "nbconvert_exporter": "python",
   "pygments_lexer": "ipython3",
   "version": "3.6.1"
  }
 },
 "nbformat": 4,
 "nbformat_minor": 2
}
