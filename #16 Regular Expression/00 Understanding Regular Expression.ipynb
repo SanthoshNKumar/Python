{
 "cells": [
  {
   "cell_type": "code",
   "execution_count": 2,
   "metadata": {},
   "outputs": [],
   "source": [
    "import re"
   ]
  },
  {
   "cell_type": "code",
   "execution_count": 3,
   "metadata": {},
   "outputs": [],
   "source": [
    "# RegEx Functions\n",
    "\n",
    "# 1. findall : Returns a list containing all matches\n",
    "# 2. search  : Returns a Match object if there is a match anywhere in the string\n",
    "# 3. split   : Returns a list where the string has been split at each match\n",
    "# 4. sub     : Replaces one or many matches with a string"
   ]
  },
  {
   "cell_type": "code",
   "execution_count": 4,
   "metadata": {},
   "outputs": [],
   "source": [
    "# Metacharacters\n",
    "\n",
    "#1. []                           A set of Character                                        [a-m]\n",
    "#2. \\                            Signals a special sequence                                 \\d\n",
    "#3. .                            Any character                                             he..o\n",
    "#4. ^                            starts with                                               ^hello\n",
    "#5. $                            Ends with                                                 bye$\n",
    "#6. *                            Zero or more occurences                                   aix*\n",
    "#7. +                            One or more occurences                                    aix+\n",
    "#8. {}                           Exactly the specified number of occurences                al{2}\n",
    "#9. |                            Either or                                                 flass|stays\n",
    "#10.Capture and group            "
   ]
  },
  {
   "cell_type": "code",
   "execution_count": 5,
   "metadata": {},
   "outputs": [],
   "source": [
    "# Special Sequences\n",
    "\n",
    "# \\A          Return match mentioned begining of the string                                               \\AThe\n",
    "# \\b          Return match mentioned beginning or at the end of a word                                    \\bThe or The\\b\n",
    "# \\B          Return match mentioned, but NOT at the beginning (or at the end) of a word                  \\Bain\n",
    "# \\d          Return match where the string contains digits                                               \\d\n",
    "# \\D          Return match where the string does not contains digits                                      \\D\n",
    "# \\s          Returns a match where the string contains a white space character                           \\s\n",
    "# \\S          Returns a match where the string DOES NOT contain a white space character                   \\S\n",
    "# \\w          Returns a match where the string contains any word characters                               \\w\n",
    "# \\W          Returns a match where the string DOES NOT contain any word characters                       \\W\n",
    "# \\Z          Returns a match if the specified characters are at the end of the string                    Spain\\Z"
   ]
  },
  {
   "cell_type": "code",
   "execution_count": 6,
   "metadata": {},
   "outputs": [],
   "source": [
    "# Sets \n",
    "\n",
    "# [arn]       Returns a match where one of the specified characters (a, r, or n) are present\n",
    "# [a-n]       Returns a match for any lower case character, alphabetically between a and n\n",
    "# [^arn]      Returns a match for any character EXCEPT a, r, and n\n",
    "# [0123]      Returns a match where any of the specified digits (0, 1, 2, or 3) are present\n",
    "# [0-9]       Returns a match for any digit between 0 and 9\n",
    "# [0-5][0-9]  Returns a match for any two-digit numbers from 00 and 59\n",
    "# [a-zA-Z]    Returns a match for any character alphabetically between a and z, lower case OR upper case\n",
    "# [+]         "
   ]
  },
  {
   "cell_type": "code",
   "execution_count": 10,
   "metadata": {},
   "outputs": [
    {
     "name": "stdout",
     "output_type": "stream",
     "text": [
      "['ai', 'ai']\n",
      "[]\n"
     ]
    }
   ],
   "source": [
    "import re\n",
    "\n",
    "txt = \"The rain in spain\"\n",
    "print(re.findall('ai',txt))\n",
    "print(re.findall('aii',txt)) # Match does not exist on the text"
   ]
  },
  {
   "cell_type": "code",
   "execution_count": 17,
   "metadata": {},
   "outputs": [
    {
     "name": "stdout",
     "output_type": "stream",
     "text": [
      "['The', 'rain', 'in', 'Spain']\n"
     ]
    }
   ],
   "source": [
    "txt = \"The rain in Spain\"\n",
    "x = re.split(\"\\s\", txt)\n",
    "\n",
    "print(x)"
   ]
  },
  {
   "cell_type": "code",
   "execution_count": 21,
   "metadata": {},
   "outputs": [
    {
     "name": "stdout",
     "output_type": "stream",
     "text": [
      "The@rain@in@Spain\n"
     ]
    }
   ],
   "source": [
    "txt = \"The rain in Spain\"\n",
    "x = re.sub(\"\\s\",\"@\",txt)\n",
    "\n",
    "print(x)"
   ]
  },
  {
   "cell_type": "code",
   "execution_count": 26,
   "metadata": {},
   "outputs": [
    {
     "name": "stdout",
     "output_type": "stream",
     "text": [
      "The@rain@in Spain\n"
     ]
    }
   ],
   "source": [
    "txt = \"The rain in Spain\"\n",
    "x = re.sub(\"\\s\",\"@\",txt,2)  # replace first 2 characters\n",
    "\n",
    "print(x)"
   ]
  },
  {
   "cell_type": "code",
   "execution_count": 34,
   "metadata": {},
   "outputs": [
    {
     "data": {
      "text/plain": [
       "'@ banglore is The great city'"
      ]
     },
     "execution_count": 34,
     "metadata": {},
     "output_type": "execute_result"
    }
   ],
   "source": [
    "# ^ : Matches beginning of line\n",
    "\n",
    "re.sub(\"^The\",\"@\",\"The banglore is The great city\") # replace 'The' with '@' only found in the beginning of the sentence"
   ]
  },
  {
   "cell_type": "code",
   "execution_count": 74,
   "metadata": {},
   "outputs": [
    {
     "data": {
      "text/plain": [
       "'The banglore is The great @'"
      ]
     },
     "execution_count": 74,
     "metadata": {},
     "output_type": "execute_result"
    }
   ],
   "source": [
    "re.sub(\"city$\",\"@\",\"The banglore is The great city\")  # replace 'city' with '@' only at the end of the line"
   ]
  },
  {
   "cell_type": "code",
   "execution_count": 75,
   "metadata": {},
   "outputs": [
    {
     "data": {
      "text/plain": [
       "'s@nthosh @'"
      ]
     },
     "execution_count": 75,
     "metadata": {},
     "output_type": "execute_result"
    }
   ],
   "source": [
    "re.sub(\"[abd]\",\"@\",\"santhosh b\")  # replace any character find on  the [abd] to \"@\" "
   ]
  },
  {
   "cell_type": "code",
   "execution_count": 76,
   "metadata": {},
   "outputs": [
    {
     "data": {
      "text/plain": [
       "'@a@@@@@@@b'"
      ]
     },
     "execution_count": 76,
     "metadata": {},
     "output_type": "execute_result"
    }
   ],
   "source": [
    "re.sub(\"[^abd]\",\"@\",\"santhosh b\") # replace any character not find on  the [abd] to \"@\" "
   ]
  },
  {
   "cell_type": "code",
   "execution_count": 77,
   "metadata": {},
   "outputs": [
    {
     "data": {
      "text/plain": [
       "True"
      ]
     },
     "execution_count": 77,
     "metadata": {},
     "output_type": "execute_result"
    }
   ],
   "source": [
    "bool(re.match(\"[*a]\",\"a\")) # matches 0 or more occurrences"
   ]
  },
  {
   "cell_type": "code",
   "execution_count": 78,
   "metadata": {},
   "outputs": [
    {
     "data": {
      "text/plain": [
       "True"
      ]
     },
     "execution_count": 78,
     "metadata": {},
     "output_type": "execute_result"
    }
   ],
   "source": [
    "bool(re.match(\"[?a]\",\"a\"))"
   ]
  },
  {
   "cell_type": "code",
   "execution_count": 79,
   "metadata": {},
   "outputs": [
    {
     "data": {
      "text/plain": [
       "'S@nthosh@@'"
      ]
     },
     "execution_count": 79,
     "metadata": {},
     "output_type": "execute_result"
    }
   ],
   "source": [
    "re.sub(\"[+a]\",\"@\",\"Santhoshaa\")"
   ]
  },
  {
   "cell_type": "code",
   "execution_count": 84,
   "metadata": {},
   "outputs": [
    {
     "data": {
      "text/plain": [
       "True"
      ]
     },
     "execution_count": 84,
     "metadata": {},
     "output_type": "execute_result"
    }
   ],
   "source": [
    "bool(re.match(\"a{2}\",\"aaaa\"))"
   ]
  },
  {
   "cell_type": "code",
   "execution_count": 85,
   "metadata": {},
   "outputs": [
    {
     "data": {
      "text/plain": [
       "False"
      ]
     },
     "execution_count": 85,
     "metadata": {},
     "output_type": "execute_result"
    }
   ],
   "source": [
    "bool(re.match(\"a{7}\",\"aaaa\"))"
   ]
  },
  {
   "cell_type": "code",
   "execution_count": 94,
   "metadata": {},
   "outputs": [
    {
     "data": {
      "text/plain": [
       "True"
      ]
     },
     "execution_count": 94,
     "metadata": {},
     "output_type": "execute_result"
    }
   ],
   "source": [
    "bool(re.match(\"a{2,2}\",\"aaaaaa\")) # at least n and at most m occurences"
   ]
  },
  {
   "cell_type": "code",
   "execution_count": 103,
   "metadata": {},
   "outputs": [
    {
     "data": {
      "text/plain": [
       "True"
      ]
     },
     "execution_count": 103,
     "metadata": {},
     "output_type": "execute_result"
    }
   ],
   "source": [
    "bool(re.match(\"a|b\",\"bsadfs\")) # a or b "
   ]
  },
  {
   "cell_type": "code",
   "execution_count": 125,
   "metadata": {},
   "outputs": [
    {
     "data": {
      "text/plain": [
       "True"
      ]
     },
     "execution_count": 125,
     "metadata": {},
     "output_type": "execute_result"
    }
   ],
   "source": [
    "bool(re.match(\"\\d\",\"1sdafsd\")) # match 0-9 at begininng"
   ]
  },
  {
   "cell_type": "code",
   "execution_count": 131,
   "metadata": {},
   "outputs": [
    {
     "data": {
      "text/plain": [
       "True"
      ]
     },
     "execution_count": 131,
     "metadata": {},
     "output_type": "execute_result"
    }
   ],
   "source": [
    "bool(re.match(\"\\D\",\"sdafsd\")) # match non digit at begging"
   ]
  },
  {
   "cell_type": "code",
   "execution_count": 149,
   "metadata": {},
   "outputs": [
    {
     "data": {
      "text/plain": [
       "False"
      ]
     },
     "execution_count": 149,
     "metadata": {},
     "output_type": "execute_result"
    }
   ],
   "source": [
    "bool(re.match(\"\\s\",\"sf esad\"))"
   ]
  },
  {
   "cell_type": "code",
   "execution_count": null,
   "metadata": {},
   "outputs": [],
   "source": []
  }
 ],
 "metadata": {
  "kernelspec": {
   "display_name": "Python 3",
   "language": "python",
   "name": "python3"
  },
  "language_info": {
   "codemirror_mode": {
    "name": "ipython",
    "version": 3
   },
   "file_extension": ".py",
   "mimetype": "text/x-python",
   "name": "python",
   "nbconvert_exporter": "python",
   "pygments_lexer": "ipython3",
   "version": "3.7.4"
  }
 },
 "nbformat": 4,
 "nbformat_minor": 2
}
