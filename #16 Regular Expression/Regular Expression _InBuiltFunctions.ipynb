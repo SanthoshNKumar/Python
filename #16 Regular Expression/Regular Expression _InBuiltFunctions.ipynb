{
 "cells": [
  {
   "cell_type": "code",
   "execution_count": 19,
   "metadata": {},
   "outputs": [
    {
     "name": "stdout",
     "output_type": "stream",
     "text": [
      "['ai', 'ai']\n",
      "[]\n",
      "The first white-space character is located in position: 3\n",
      "['The', 'rain', 'in', 'Spain']\n",
      "['The', 'rain in Spain']\n",
      "The9rain9in9Spain\n",
      "The9rain9in Spain\n",
      "Spain\n"
     ]
    }
   ],
   "source": [
    "import re\n",
    "\n",
    "# Print a list of all matches:\n",
    "str = \"The rain in Spain\"\n",
    "x = re.findall(\"ai\", str)\n",
    "print(x)\n",
    "\n",
    "\n",
    "# Return an empty list if no match was found:\n",
    "x = re.findall(\"Portugal\", str)\n",
    "print(x)\n",
    "\n",
    "# Search\n",
    "x = re.search(\"\\s\", str)\n",
    "print(\"The first white-space character is located in position:\", x.start())\n",
    "\n",
    "# Split\n",
    "x = re.split(\"\\s\", str)\n",
    "print(x)\n",
    "\n",
    "# Split the string only at the first occurrence:\n",
    "x = re.split(\"\\s\", str, 1)\n",
    "print(x)\n",
    "\n",
    "# Replace every white-space character with the number 9:\n",
    "x = re.sub(\"\\s\", \"9\", str)\n",
    "print(x)\n",
    "\n",
    "# Replace the first 2 occurrences\n",
    "x = re.sub(\"\\s\", \"9\", str, 2)\n",
    "print(x)\n",
    "\n"
   ]
  },
  {
   "cell_type": "code",
   "execution_count": null,
   "metadata": {},
   "outputs": [],
   "source": []
  }
 ],
 "metadata": {
  "kernelspec": {
   "display_name": "Python 3",
   "language": "python",
   "name": "python3"
  },
  "language_info": {
   "codemirror_mode": {
    "name": "ipython",
    "version": 3
   },
   "file_extension": ".py",
   "mimetype": "text/x-python",
   "name": "python",
   "nbconvert_exporter": "python",
   "pygments_lexer": "ipython3",
   "version": "3.6.1"
  }
 },
 "nbformat": 4,
 "nbformat_minor": 2
}
