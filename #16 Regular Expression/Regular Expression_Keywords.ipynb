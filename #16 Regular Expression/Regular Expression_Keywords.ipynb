{
 "cells": [
  {
   "cell_type": "code",
   "execution_count": 3,
   "metadata": {},
   "outputs": [],
   "source": [
    "# Metacharacters\n",
    "#1 [] = set of characters                         Example : \"[a-m]\"\n",
    "#2 \\ = \n",
    "#3 . = any character (Except newline character)   Example : \"he..o\"\n",
    "#4 ^ = start with                                 Example : \"^hello\"\n",
    "#5 $ = Ends with                                  Example : \"words$\"\n",
    "#6 * = Zero or more occurrences                   Example : \"aix*\"\n",
    "#7 + = One or more occurrences                    Example : \"aix+\"\n",
    "#8 {} = exactly the specified number of occurrences Example : \"al{2}\"\n",
    "#9 | Either or                                    Example : \"falls|stays\"\n",
    "#10 () capture and group\n",
    "\n",
    "\n",
    "# Special Sequences\n",
    "#1 \\A    Specified characters are at the beginning of the string    \"\\AThe\"\n",
    "#2 \\b    Specified characters are at the begging or at the end of a word  \"\\bain\" or \"ain\\b\"\n",
    "#3 \\B    Specified characters are present,but not at begging or end if the word     \"\\Bain\" or \"ain\\B\"\n",
    "#4 \\d    match where the string contains digits (0-9)   \"\\d\"\n",
    "#5 \\D    match where the string Does not contain digits\n",
    "#6 \\s    match where the string contains a white space charcater \"\\s\"\n",
    "#7 \\S    match where the string Does not contain digits  \"\\S\"\n",
    "#8 \\w    match where the string conatins any word character (a-Z),digits(0-9) and underscore character(_)   \"\\w\"\n",
    "#9 \\W    match where the string does not conatins any word character\n",
    "#10 \\Z   match if the specified characters are at the end of the string \"\\Z\"\n",
    "\n",
    "# Example :\n",
    "\n",
    "#1 [arn]  : Returns a match where one of the specified characters (a, r, or n) are present\n",
    "#2 [a-n]  : Returns a match for any lower case character, alphabetically between a and n\n",
    "#3 [^arn] : Returns a match for any character EXCEPT a, r, and n\n",
    "#4 [0123] : Returns a match where any of the specified digits (0, 1, 2, or 3) are present\n",
    "#5 [0-9]  : Returns a match for any digit between 0 and 9\n",
    "#6 [0-5][0-9] : Returns a match for any two-digit numbers from 00 and 59\n",
    "#7 [a-zA-Z] : Returns a match for any character alphabetically between a and z, lower case OR upper case\n",
    "\n",
    "\n",
    "\n",
    "import re\n",
    "\n",
    "\n",
    "\n",
    "\n"
   ]
  },
  {
   "cell_type": "code",
   "execution_count": null,
   "metadata": {},
   "outputs": [],
   "source": []
  }
 ],
 "metadata": {
  "kernelspec": {
   "display_name": "Python 3",
   "language": "python",
   "name": "python3"
  },
  "language_info": {
   "codemirror_mode": {
    "name": "ipython",
    "version": 3
   },
   "file_extension": ".py",
   "mimetype": "text/x-python",
   "name": "python",
   "nbconvert_exporter": "python",
   "pygments_lexer": "ipython3",
   "version": "3.6.1"
  }
 },
 "nbformat": 4,
 "nbformat_minor": 2
}
