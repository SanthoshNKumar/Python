{
 "cells": [
  {
   "cell_type": "code",
   "execution_count": 1,
   "metadata": {},
   "outputs": [],
   "source": [
    "# Encapsulation. Restricted accesss to methods or variables"
   ]
  },
  {
   "cell_type": "code",
   "execution_count": 2,
   "metadata": {},
   "outputs": [
    {
     "name": "stdout",
     "output_type": "stream",
     "text": [
      "updating software\n",
      "driving\n"
     ]
    },
    {
     "ename": "AttributeError",
     "evalue": "'car' object has no attribute '__updateSoftware'",
     "output_type": "error",
     "traceback": [
      "\u001b[1;31m---------------------------------------------------------------------------\u001b[0m",
      "\u001b[1;31mAttributeError\u001b[0m                            Traceback (most recent call last)",
      "\u001b[1;32m<ipython-input-2-38dc427c214d>\u001b[0m in \u001b[0;36m<module>\u001b[1;34m\u001b[0m\n\u001b[0;32m     12\u001b[0m \u001b[0mredcar\u001b[0m\u001b[1;33m.\u001b[0m\u001b[0mdrive\u001b[0m\u001b[1;33m(\u001b[0m\u001b[1;33m)\u001b[0m\u001b[1;33m\u001b[0m\u001b[1;33m\u001b[0m\u001b[0m\n\u001b[0;32m     13\u001b[0m \u001b[1;33m\u001b[0m\u001b[0m\n\u001b[1;32m---> 14\u001b[1;33m \u001b[0mredcar\u001b[0m\u001b[1;33m.\u001b[0m\u001b[0m__updateSoftware\u001b[0m\u001b[1;33m(\u001b[0m\u001b[1;33m)\u001b[0m  \u001b[1;31m# Private method cannot be accessbible\u001b[0m\u001b[1;33m\u001b[0m\u001b[1;33m\u001b[0m\u001b[0m\n\u001b[0m\u001b[0;32m     15\u001b[0m \u001b[1;33m\u001b[0m\u001b[0m\n",
      "\u001b[1;31mAttributeError\u001b[0m: 'car' object has no attribute '__updateSoftware'"
     ]
    }
   ],
   "source": [
    "class car:\n",
    "    def __init__(self):\n",
    "        self.__updateSoftware()\n",
    "        \n",
    "    def drive(self):\n",
    "        print('driving')\n",
    "    \n",
    "    def __updateSoftware(self):\n",
    "        print('updating software')\n",
    "        \n",
    "redcar = car()\n",
    "redcar.drive()\n",
    "\n",
    "redcar.__updateSoftware()  # Private method cannot be accessbible\n",
    "        "
   ]
  },
  {
   "cell_type": "code",
   "execution_count": 3,
   "metadata": {},
   "outputs": [],
   "source": [
    "class Car:\n",
    "    __maxspeed = 0\n",
    "    __name = \"\"\n",
    "    \n",
    "    def __init__(self):\n",
    "        self.__maxspeed = 200\n",
    "        self.__name = \"Supercar\"\n",
    "        \n",
    "    def drive(self):\n",
    "        print('driving. maxspeed ' + str(self.__maxspeed))\n",
    "    "
   ]
  },
  {
   "cell_type": "code",
   "execution_count": 4,
   "metadata": {},
   "outputs": [
    {
     "name": "stdout",
     "output_type": "stream",
     "text": [
      "driving. maxspeed 200\n",
      "driving. maxspeed 200\n"
     ]
    }
   ],
   "source": [
    "redcar = Car()\n",
    "\n",
    "redcar.drive()\n",
    "\n",
    "redcar.__maxspeed = 10  # will not change variable because its private\n",
    "redcar.drive()\n"
   ]
  },
  {
   "cell_type": "markdown",
   "metadata": {},
   "source": [
    "### Access Specifiers"
   ]
  },
  {
   "cell_type": "code",
   "execution_count": 6,
   "metadata": {},
   "outputs": [
    {
     "name": "stdout",
     "output_type": "stream",
     "text": [
      "Welcome to  Start Industries\n",
      "Here  Steve is working on Mark 4\n",
      "The Salary of Steve is  100000\n"
     ]
    }
   ],
   "source": [
    "# Define parent class Company\n",
    "class Company:\n",
    "    \n",
    "    # Constructor\n",
    "    def __init__(self,name,proj):\n",
    "        self.name = name # Name (Name of the company) is public\n",
    "        self._proj = proj # proje(Current Project) is Private\n",
    "    \n",
    "    def show(self):\n",
    "        print(\"The code of the company is = \",self.ccode)\n",
    "        \n",
    "class Employee(Company):\n",
    "    \n",
    "    # Constructor\n",
    "    def __init__(self,eName,sal,cName,proj):\n",
    "        \n",
    "        # Calling eth parent class constructor\n",
    "        Company.__init__(self,cName,proj)\n",
    "        self.name = eName # Public Name Varibale\n",
    "        self._sal = sal # private member varibale\n",
    "        \n",
    "    # Public function to show the salary details\n",
    "    def show_salary(self):\n",
    "        print(\"The Salary of\",self.name,\"is \",self._sal)\n",
    "\n",
    "c = Company(\"Start Industries\",\"Mark 4\")\n",
    "\n",
    "e = Employee(\"Steve\",100000,c.name,c._proj)\n",
    "\n",
    "print(\"Welcome to \",c.name)\n",
    "\n",
    "print(\"Here \",e.name,\"is working on\",e._proj)\n",
    "        \n",
    "e.show_salary()"
   ]
  },
  {
   "cell_type": "code",
   "execution_count": null,
   "metadata": {},
   "outputs": [],
   "source": []
  },
  {
   "cell_type": "markdown",
   "metadata": {},
   "source": [
    "### Acces Specifiers Private"
   ]
  },
  {
   "cell_type": "code",
   "execution_count": 7,
   "metadata": {},
   "outputs": [
    {
     "name": "stdout",
     "output_type": "stream",
     "text": [
      "Salary 200000\n"
     ]
    },
    {
     "ename": "AttributeError",
     "evalue": "'HR' object has no attribute '__sal'",
     "output_type": "error",
     "traceback": [
      "\u001b[1;31m---------------------------------------------------------------------------\u001b[0m",
      "\u001b[1;31mAttributeError\u001b[0m                            Traceback (most recent call last)",
      "\u001b[1;32m<ipython-input-7-75d0db25c651>\u001b[0m in \u001b[0;36m<module>\u001b[1;34m\u001b[0m\n\u001b[0;32m     18\u001b[0m \u001b[1;33m\u001b[0m\u001b[0m\n\u001b[0;32m     19\u001b[0m \u001b[0mhrp\u001b[0m \u001b[1;33m=\u001b[0m \u001b[0mHR\u001b[0m\u001b[1;33m(\u001b[0m\u001b[1;34m\"Captain\"\u001b[0m\u001b[1;33m,\u001b[0m\u001b[1;36m40000\u001b[0m\u001b[1;33m)\u001b[0m\u001b[1;33m\u001b[0m\u001b[1;33m\u001b[0m\u001b[0m\n\u001b[1;32m---> 20\u001b[1;33m \u001b[0mhrp\u001b[0m\u001b[1;33m.\u001b[0m\u001b[0m__sal\u001b[0m\u001b[1;33m\u001b[0m\u001b[1;33m\u001b[0m\u001b[0m\n\u001b[0m\u001b[0;32m     21\u001b[0m \u001b[0mhrp\u001b[0m\u001b[1;33m.\u001b[0m\u001b[0mdisplaySalary\u001b[0m\u001b[1;33m(\u001b[0m\u001b[1;33m)\u001b[0m\u001b[1;33m\u001b[0m\u001b[1;33m\u001b[0m\u001b[0m\n",
      "\u001b[1;31mAttributeError\u001b[0m: 'HR' object has no attribute '__sal'"
     ]
    }
   ],
   "source": [
    "# Double Prefix __ Example _sal : is pribate and are accessible from within the class, no outside access is allowed\n",
    "\n",
    "class Employee:\n",
    "    \n",
    "    def __init__(self,name,sal):\n",
    "        self.name = name\n",
    "        self.__sal = sal # Private varibales\n",
    "    \n",
    "    def displaySalary(self):\n",
    "        print(\"Salary {}\".format(self.__sal))\n",
    "\n",
    "emp = Employee(\"Santhosh\",200000)\n",
    "emp.displaySalary()\n",
    "\n",
    "class HR(Employee):\n",
    "    def task(self):\n",
    "        print(\"We manage Employee\")\n",
    "        \n",
    "hrp = HR(\"Captain\",40000)\n",
    "hrp.__sal\n",
    "hrp.displaySalary()"
   ]
  },
  {
   "cell_type": "code",
   "execution_count": null,
   "metadata": {},
   "outputs": [],
   "source": []
  },
  {
   "cell_type": "markdown",
   "metadata": {},
   "source": [
    "### Acces Specifiers Protected"
   ]
  },
  {
   "cell_type": "code",
   "execution_count": 8,
   "metadata": {},
   "outputs": [
    {
     "name": "stdout",
     "output_type": "stream",
     "text": [
      "Salary 200000\n",
      "Salary 45000\n"
     ]
    }
   ],
   "source": [
    "# Single Prefix _ Example _sal : is Pretected and it can be accessed ouside the class but only in a class derived from it\n",
    "# In a calss and sub class\n",
    "\n",
    "class Employee:\n",
    "    \n",
    "    def __init__(self,name,sal):\n",
    "        self.name = name\n",
    "        self._sal = sal\n",
    "    \n",
    "    def displaySalary(self):\n",
    "        print(\"Salary {}\".format(self._sal))\n",
    "\n",
    "emp = Employee(\"Santhosh\",200000)\n",
    "emp.displaySalary()\n",
    "\n",
    "class HR(Employee):\n",
    "    def task(self):\n",
    "        print(\"We manage Employee\")\n",
    "        \n",
    "hrp = HR(\"Captain\",40000)\n",
    "hrp._sal = 45000\n",
    "hrp.displaySalary()"
   ]
  },
  {
   "cell_type": "code",
   "execution_count": null,
   "metadata": {},
   "outputs": [],
   "source": []
  }
 ],
 "metadata": {
  "kernelspec": {
   "display_name": "Python 3",
   "language": "python",
   "name": "python3"
  },
  "language_info": {
   "codemirror_mode": {
    "name": "ipython",
    "version": 3
   },
   "file_extension": ".py",
   "mimetype": "text/x-python",
   "name": "python",
   "nbconvert_exporter": "python",
   "pygments_lexer": "ipython3",
   "version": "3.7.4"
  }
 },
 "nbformat": 4,
 "nbformat_minor": 2
}
