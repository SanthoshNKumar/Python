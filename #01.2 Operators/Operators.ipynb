{
 "cells": [
  {
   "cell_type": "markdown",
   "metadata": {},
   "source": [
    "### Operator Overloding"
   ]
  },
  {
   "cell_type": "code",
   "execution_count": 1,
   "metadata": {},
   "outputs": [
    {
     "name": "stdout",
     "output_type": "stream",
     "text": [
      "<__main__.GridPoint object at 0x000002A5D099FF88>\n"
     ]
    }
   ],
   "source": [
    "# Operator Overloading enables us to use mathematical,logical,bitwise operators \n",
    "# on python objects just like any primitive data types\n",
    "\n",
    "# Example : you can easily add two numbers 3 and 5 with + operator, i.e 3 + 5. And the result is 8.\n",
    "# What if we want to add two circles(object of a Circle class) and make a circle having twice the radius? \n",
    "# Or what if you want to add two cartesian grid points to yield another point with the same ‘+’ operator? \n",
    "# Python operator overloading allows you to perform operations just like those.\n",
    "\n",
    "class GridPoint:\n",
    "    def __init__(self,x,y):\n",
    "        self.x = x\n",
    "        self.y = y\n",
    "        \n",
    "    def __add__(self,other): # Equivalent of + operator\n",
    "        return GridPoint(self.x+other.x,self.y+other.y)\n",
    "\n",
    "\n",
    "point1 = GridPoint(3,4)\n",
    "point2 = GridPoint(5,6)\n",
    "\n",
    "point3 = point1 + point2\n",
    "print(point3)\n",
    "        \n"
   ]
  },
  {
   "cell_type": "code",
   "execution_count": null,
   "metadata": {},
   "outputs": [],
   "source": []
  },
  {
   "cell_type": "markdown",
   "metadata": {},
   "source": [
    "### Operators Arithmetic"
   ]
  },
  {
   "cell_type": "code",
   "execution_count": 2,
   "metadata": {},
   "outputs": [
    {
     "name": "stdout",
     "output_type": "stream",
     "text": [
      "Addition if two number10 and 20 is 30\n",
      "Subtraction if two number10 and 20 is -10\n",
      "Multiplication if two number10 and 20 is 200\n",
      "Division if two number10 and 20 is 0.5\n",
      "Modulus if two number2 and 4 is True\n",
      "Exponentiation of the number 8 is 64\n",
      "Floor Division of number 10 and 20 is  0\n"
     ]
    }
   ],
   "source": [
    "# Arithmetic operators(+,-,*,/,%,**,//)\n",
    "\n",
    "x = 10\n",
    "y = 20\n",
    "\n",
    "print(\"Addition if two number{} and {} is\".format(x,y),x+y) # Addition of two numbers\n",
    "\n",
    "print(\"Subtraction if two number{} and {} is\".format(x,y),x-y) # Subtraction of two numbers\n",
    "\n",
    "print(\"Multiplication if two number{} and {} is\".format(x,y),x*y) # Multiplication of two numbers\n",
    "\n",
    "print(\"Division if two number{} and {} is\".format(x,y),x/y) # Division of two numbers\n",
    "\n",
    "print(\"Modulus if two number{} and {} is\".format(2,4),(4 % 2 == 0)) # Modulus of two numbers\n",
    "\n",
    "print(\"Exponentiation of the number {} is\".format(8),8**2) # Modulus of two numbers (8*8)\n",
    "\n",
    "# the result of 0.5 (10/20) but it is floor division result is 0\n",
    "print(\"Floor Division of number {} and {} is \".format(10,20),10//20) \n"
   ]
  },
  {
   "cell_type": "code",
   "execution_count": null,
   "metadata": {},
   "outputs": [],
   "source": []
  },
  {
   "cell_type": "markdown",
   "metadata": {},
   "source": [
    "### Operators_Assigment "
   ]
  },
  {
   "cell_type": "code",
   "execution_count": 3,
   "metadata": {},
   "outputs": [
    {
     "name": "stdout",
     "output_type": "stream",
     "text": [
      "Assigment Operator x = 10\n",
      "Assigment Operator x += 13 is 13\n",
      "Assigment Operator x -= 10 is 10\n",
      "Assigment Operator x *= 30 is 30\n",
      "Assigment Operator x %= 3 is 10.0\n",
      "Assigment Operator x //= 3 is 2.0\n",
      "Assigment Operator x**= 2 is 16.0\n"
     ]
    }
   ],
   "source": [
    "# Assignment Operators\n",
    "\n",
    "x = 10\n",
    "\n",
    "print(\"Assigment Operator x = {}\".format(x))\n",
    "\n",
    "x += 3\n",
    "print(\"Assigment Operator x += {} is\".format(x),x)\n",
    "\n",
    "x -= 3\n",
    "print(\"Assigment Operator x -= {} is\".format(x),x)\n",
    "\n",
    "x *= 3\n",
    "print(\"Assigment Operator x *= {} is\".format(x),x)\n",
    "\n",
    "x /= 3\n",
    "print(\"Assigment Operator x %= {} is\".format(3),x)\n",
    "\n",
    "x//=4\n",
    "print(\"Assigment Operator x //= {} is\".format(3),x)\n",
    "\n",
    "x**=4\n",
    "print(\"Assigment Operator x**= {} is\".format(2),x)"
   ]
  },
  {
   "cell_type": "code",
   "execution_count": null,
   "metadata": {},
   "outputs": [],
   "source": []
  },
  {
   "cell_type": "markdown",
   "metadata": {},
   "source": [
    "### Operators Comparision"
   ]
  },
  {
   "cell_type": "code",
   "execution_count": 4,
   "metadata": {},
   "outputs": [
    {
     "name": "stdout",
     "output_type": "stream",
     "text": [
      "Comparision Operators 10 == 20 is False\n",
      "Comparision Operators 10 != 20 is True\n",
      "Comparision Operators 10 > 20 is False\n",
      "Comparision Operators 10 < 20 is True\n",
      "Comparision Operators 10 >= 20 is False\n",
      "Comparision Operators 10 <= 20 is True\n"
     ]
    }
   ],
   "source": [
    "# Comparision Operators(Equal; Not Equal;Greater Than,Less Than,Greater Than or equal to and Less than or Equal to)\n",
    "\n",
    "x = 10\n",
    "y = 20\n",
    "\n",
    "# Equal\n",
    "print(\"Comparision Operators {} == {} is\".format(x,y), x==y)\n",
    "\n",
    "# Not Equal\n",
    "print(\"Comparision Operators {} != {} is\".format(x,y), x!=y)\n",
    "\n",
    "# Greate Than\n",
    "print(\"Comparision Operators {} > {} is\".format(x,y), x>y)\n",
    "\n",
    "# Less Than\n",
    "print(\"Comparision Operators {} < {} is\".format(x,y), x<y)\n",
    "\n",
    "# Greate Than or Equal to\n",
    "print(\"Comparision Operators {} >= {} is\".format(x,y), x>=y)\n",
    "\n",
    "# Less Than or Euual to\n",
    "print(\"Comparision Operators {} <= {} is\".format(x,y), x<=y)\n"
   ]
  },
  {
   "cell_type": "code",
   "execution_count": null,
   "metadata": {},
   "outputs": [],
   "source": []
  },
  {
   "cell_type": "markdown",
   "metadata": {},
   "source": [
    "### Operators Identity"
   ]
  },
  {
   "cell_type": "code",
   "execution_count": 5,
   "metadata": {},
   "outputs": [
    {
     "name": "stdout",
     "output_type": "stream",
     "text": [
      "Identity operator 'is' 5 is 10 : False\n",
      "Identity operator 'is not' 5 is not 10 : True\n"
     ]
    }
   ],
   "source": [
    "# Identity Operators(is and is not)\n",
    "\n",
    "x =5\n",
    "y =10\n",
    "\n",
    "print(\"Identity operator 'is' {} is {} :\".format(x,y),x is y)\n",
    "\n",
    "print(\"Identity operator 'is not' {} is not {} :\".format(x,y),x is not y)"
   ]
  },
  {
   "cell_type": "code",
   "execution_count": null,
   "metadata": {},
   "outputs": [],
   "source": []
  },
  {
   "cell_type": "markdown",
   "metadata": {},
   "source": [
    "### Identity Operators(is and is not)"
   ]
  },
  {
   "cell_type": "code",
   "execution_count": 6,
   "metadata": {},
   "outputs": [
    {
     "name": "stdout",
     "output_type": "stream",
     "text": [
      "Identity operator 'is' 5 is 10 : False\n",
      "Identity operator 'is not' 5 is not 10 : True\n"
     ]
    }
   ],
   "source": [
    "x =5\n",
    "y =10\n",
    "\n",
    "print(\"Identity operator 'is' {} is {} :\".format(x,y),x is y)\n",
    "\n",
    "print(\"Identity operator 'is not' {} is not {} :\".format(x,y),x is not y)"
   ]
  },
  {
   "cell_type": "code",
   "execution_count": null,
   "metadata": {},
   "outputs": [],
   "source": []
  },
  {
   "cell_type": "markdown",
   "metadata": {},
   "source": [
    "### Operators Membership"
   ]
  },
  {
   "cell_type": "code",
   "execution_count": 7,
   "metadata": {},
   "outputs": [
    {
     "name": "stdout",
     "output_type": "stream",
     "text": [
      "Membership operators 'in' for apple in ['apple', 'bannana', 'Orange'] : True\n",
      "Membership operators 'not in' for apple in ['apple', 'bannana', 'Orange'] : False\n"
     ]
    }
   ],
   "source": [
    "# Membership Operators: test if a sequence is presented in an object:\n",
    "# (in ; not in)\n",
    "\n",
    "x = [\"apple\",'bannana','Orange']\n",
    "y = \"apple\"\n",
    "\n",
    "print(\"Membership operators 'in' for {} in {} :\".format(y,x),y in x)\n",
    "\n",
    "print(\"Membership operators 'not in' for {} in {} :\".format(y,x),y not in x)\n"
   ]
  },
  {
   "cell_type": "code",
   "execution_count": null,
   "metadata": {},
   "outputs": [],
   "source": []
  }
 ],
 "metadata": {
  "kernelspec": {
   "display_name": "Python 3",
   "language": "python",
   "name": "python3"
  },
  "language_info": {
   "codemirror_mode": {
    "name": "ipython",
    "version": 3
   },
   "file_extension": ".py",
   "mimetype": "text/x-python",
   "name": "python",
   "nbconvert_exporter": "python",
   "pygments_lexer": "ipython3",
   "version": "3.7.4"
  }
 },
 "nbformat": 4,
 "nbformat_minor": 2
}
