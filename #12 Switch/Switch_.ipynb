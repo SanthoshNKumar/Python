{
 "cells": [
  {
   "cell_type": "code",
   "execution_count": 1,
   "metadata": {},
   "outputs": [
    {
     "data": {
      "text/plain": [
       "'Invalid day of the week'"
      ]
     },
     "execution_count": 1,
     "metadata": {},
     "output_type": "execute_result"
    }
   ],
   "source": [
    "# Python does not have a simple switch case construct. Coming from a Java or C++ background, you may find this to be a bit odd.,\n",
    "\n",
    "# Example 1:\n",
    "\n",
    "def week(i):\n",
    "    switcher = {\n",
    "                0:'Sunday',\n",
    "                1:'Monday',\n",
    "                2:'Tuesday',\n",
    "                3:'Wednesday',\n",
    "                4:'Thursday',\n",
    "                5:'Friday',\n",
    "                6:'Saturday',\n",
    "               }\n",
    "    return switcher.get(i,\"Invalid day of the week\")\n",
    "\n",
    "week(4)\n",
    "\n",
    "week(10)\n",
    "\n",
    "# Example 2:\n",
    "\n",
    "b ={\n",
    "    'a' : 122,\n",
    "    'b' : 123,\n",
    "    'c' : 124,\n",
    "    'd' : 125\n",
    "}\n",
    "\n",
    "# take user input\n",
    "inp = input('input a character : ')\n",
    "\n",
    "# -1 is the default value if there is no keys that matches the input\n",
    "print('The result for inp is : ', b.get(inp, -1))\n",
    "\n",
    "# Example 3:\n",
    "def switch_func(value, x):\n",
    "    return {\n",
    "        'a': lambda x: x+122,\n",
    "        'b': lambda x: x*2,\n",
    "        'c': lambda x: x-123,\n",
    "        'd': lambda x: x/2\n",
    "    }.get(value)(x)\n",
    "\n",
    "# take user input\n",
    "inp = input('input a character : ')\n",
    "\n",
    "print('The result for inp is : ', switch_func(inp, 2))\n",
    "\n"
   ]
  },
  {
   "cell_type": "code",
   "execution_count": null,
   "metadata": {},
   "outputs": [],
   "source": []
  }
 ],
 "metadata": {
  "kernelspec": {
   "display_name": "Python 3",
   "language": "python",
   "name": "python3"
  },
  "language_info": {
   "codemirror_mode": {
    "name": "ipython",
    "version": 3
   },
   "file_extension": ".py",
   "mimetype": "text/x-python",
   "name": "python",
   "nbconvert_exporter": "python",
   "pygments_lexer": "ipython3",
   "version": "3.6.1"
  }
 },
 "nbformat": 4,
 "nbformat_minor": 2
}
