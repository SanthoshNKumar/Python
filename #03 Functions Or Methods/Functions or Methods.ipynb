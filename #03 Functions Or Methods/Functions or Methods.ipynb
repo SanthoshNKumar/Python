{
 "cells": [
  {
   "cell_type": "code",
   "execution_count": 15,
   "metadata": {},
   "outputs": [
    {
     "name": "stdout",
     "output_type": "stream",
     "text": [
      "Hello  User\n",
      "Hello  Anish\n",
      "0.6666666666666666\n",
      "0.6666666666666666\n",
      "0.6666666666666666\n",
      "0.6666666666666666\n",
      "Hello,Santhosh\n",
      "Hello,Anand\n",
      "Hello,Prashath\n"
     ]
    }
   ],
   "source": [
    "# Python function is a sequence of statements that execute in a certain order, \n",
    "# we associate a name with it. This lets us reuse code.\n",
    "\n",
    "# 3 types of function arguments (Default;keyword;Arbitrary)\n",
    "\n",
    "# Default Argument\n",
    "def greeting(name = \"User\"):\n",
    "    print(\"Hello \",name)\n",
    "    \n",
    "greeting()\n",
    "greeting(\"Anish\")\n",
    "\n",
    "# Keyword Argument\n",
    "def divide(a,b):\n",
    "    print(a/b)\n",
    "    \n",
    "divide(2,3)\n",
    "divide(a=2,b=3)\n",
    "divide(b=3,a =2)\n",
    "divide(2,b=3)\n",
    "\n",
    "# Arbitrary Arguments\n",
    "def sayHello(*names):\n",
    "    for name in names:\n",
    "        print(f\"Hello,{name}\")\n",
    "\n",
    "sayHello(\"Santhosh\",\"Anand\",\"Prashath\")\n",
    "\n"
   ]
  },
  {
   "cell_type": "code",
   "execution_count": null,
   "metadata": {},
   "outputs": [],
   "source": []
  },
  {
   "cell_type": "markdown",
   "metadata": {},
   "source": [
    "#### args"
   ]
  },
  {
   "cell_type": "code",
   "execution_count": 2,
   "metadata": {},
   "outputs": [],
   "source": [
    "# The special syntax *args in function definitions in python is used to pass a variable number of arguments to a function\n",
    "\n",
    "# *args allows you to do is take in more arguments than the number of formal arguments that you previously defined."
   ]
  },
  {
   "cell_type": "code",
   "execution_count": 3,
   "metadata": {},
   "outputs": [],
   "source": [
    "def myfunction(*args):\n",
    "    for arg in args:\n",
    "        print(arg)"
   ]
  },
  {
   "cell_type": "code",
   "execution_count": 4,
   "metadata": {},
   "outputs": [
    {
     "name": "stdout",
     "output_type": "stream",
     "text": [
      "Hello\n",
      "Welcome\n",
      "to\n",
      "GeeksforGeeks\n"
     ]
    }
   ],
   "source": [
    "myfunction('Hello', 'Welcome', 'to', 'GeeksforGeeks')  "
   ]
  },
  {
   "cell_type": "code",
   "execution_count": null,
   "metadata": {},
   "outputs": [],
   "source": []
  },
  {
   "cell_type": "markdown",
   "metadata": {},
   "source": [
    "#### kwargs"
   ]
  },
  {
   "cell_type": "code",
   "execution_count": 5,
   "metadata": {},
   "outputs": [],
   "source": [
    "# Use the **kwargs syntax in a Python function declaration. \n",
    "# It let us pass N (variable) number of arguments which can be named or keyworded.\n",
    "\n",
    "def myFun(**kwargs):  \n",
    "    for key, value in kwargs.items(): \n",
    "        print (\"%s == %s\" %(key, value)) "
   ]
  },
  {
   "cell_type": "code",
   "execution_count": 6,
   "metadata": {},
   "outputs": [
    {
     "name": "stdout",
     "output_type": "stream",
     "text": [
      "first == Geeks\n",
      "mid == for\n",
      "last == Geeks\n"
     ]
    }
   ],
   "source": [
    "# Driver code \n",
    "myFun(first ='Geeks', mid ='for', last='Geeks')   "
   ]
  },
  {
   "cell_type": "code",
   "execution_count": null,
   "metadata": {},
   "outputs": [],
   "source": []
  },
  {
   "cell_type": "code",
   "execution_count": 1,
   "metadata": {},
   "outputs": [
    {
     "ename": "SyntaxError",
     "evalue": "unexpected EOF while parsing (<ipython-input-1-fccd18dcbd4e>, line 1)",
     "output_type": "error",
     "traceback": [
      "\u001b[1;36m  File \u001b[1;32m\"<ipython-input-1-fccd18dcbd4e>\"\u001b[1;36m, line \u001b[1;32m1\u001b[0m\n\u001b[1;33m    def myfunction():\u001b[0m\n\u001b[1;37m                     ^\u001b[0m\n\u001b[1;31mSyntaxError\u001b[0m\u001b[1;31m:\u001b[0m unexpected EOF while parsing\n"
     ]
    }
   ],
   "source": [
    "def myfunction():"
   ]
  },
  {
   "cell_type": "code",
   "execution_count": 2,
   "metadata": {},
   "outputs": [],
   "source": [
    "# The pass statement is a null statement\n",
    "\n",
    "def myfunction():\n",
    "    pass"
   ]
  },
  {
   "cell_type": "code",
   "execution_count": 3,
   "metadata": {},
   "outputs": [
    {
     "data": {
      "text/plain": [
       "1"
      ]
     },
     "execution_count": 3,
     "metadata": {},
     "output_type": "execute_result"
    }
   ],
   "source": [
    "# Zero Argument function\n",
    "\n",
    "def myfunction():\n",
    "    return 1 \n",
    "\n",
    "myfunction()"
   ]
  },
  {
   "cell_type": "code",
   "execution_count": 4,
   "metadata": {},
   "outputs": [
    {
     "data": {
      "text/plain": [
       "'Santhosh'"
      ]
     },
     "execution_count": 4,
     "metadata": {},
     "output_type": "execute_result"
    }
   ],
   "source": [
    "def myfunction(name):\n",
    "    return name\n",
    "    \n",
    "myfunction(\"Santhosh\")"
   ]
  },
  {
   "cell_type": "code",
   "execution_count": 5,
   "metadata": {},
   "outputs": [
    {
     "data": {
      "text/plain": [
       "'Anonimous'"
      ]
     },
     "execution_count": 5,
     "metadata": {},
     "output_type": "execute_result"
    }
   ],
   "source": [
    "# Default Argument\n",
    "\n",
    "def myfunction(name=\"Anonimous\"):\n",
    "    return name\n",
    "\n",
    "myfunction()"
   ]
  },
  {
   "cell_type": "code",
   "execution_count": 6,
   "metadata": {},
   "outputs": [
    {
     "data": {
      "text/plain": [
       "'Anand'"
      ]
     },
     "execution_count": 6,
     "metadata": {},
     "output_type": "execute_result"
    }
   ],
   "source": [
    "myfunction(\"Anand\")"
   ]
  },
  {
   "cell_type": "code",
   "execution_count": 7,
   "metadata": {},
   "outputs": [
    {
     "data": {
      "text/plain": [
       "'Santhosh Kumar'"
      ]
     },
     "execution_count": 7,
     "metadata": {},
     "output_type": "execute_result"
    }
   ],
   "source": [
    "# Arbitrary Arguments, *args\n",
    "\n",
    "# If you do not know how many arguments that will be passed into your function, \n",
    "# add a * before the parameter name in the function definitio\n",
    "\n",
    "def myfunction(*args):\n",
    "    return (args[0]  + \" \" + args[1])\n",
    "\n",
    "myfunction(\"Santhosh\",\"Kumar\")"
   ]
  },
  {
   "cell_type": "code",
   "execution_count": 8,
   "metadata": {},
   "outputs": [
    {
     "name": "stdout",
     "output_type": "stream",
     "text": [
      "My name is Santhosh Kumar\n"
     ]
    }
   ],
   "source": [
    "# Arbitrary Keyword Arguments, **kwargs\n",
    "# If you do not know how many keyword arguments that will be passed into your function, add two asterisk: \n",
    "# ** before the parameter name in the function definition.\n",
    "\n",
    "def my_function(**kwargs):\n",
    "  print(\"My name is \" + kwargs[\"fname\"] + \" \" + kwargs[\"lname\"])\n",
    "\n",
    "my_function(fname = \"Santhosh\", lname = \"Kumar\")"
   ]
  },
  {
   "cell_type": "code",
   "execution_count": 9,
   "metadata": {},
   "outputs": [
    {
     "data": {
      "text/plain": [
       "('Santhosh', 'Kumar')"
      ]
     },
     "execution_count": 9,
     "metadata": {},
     "output_type": "execute_result"
    }
   ],
   "source": [
    "def my_function(fname,lname):\n",
    "    return (fname,lname)\n",
    "\n",
    "my_function(\"Santhosh\",\"Kumar\")"
   ]
  },
  {
   "cell_type": "code",
   "execution_count": 10,
   "metadata": {},
   "outputs": [
    {
     "data": {
      "text/plain": [
       "'Santhosh'"
      ]
     },
     "execution_count": 10,
     "metadata": {},
     "output_type": "execute_result"
    }
   ],
   "source": [
    "fname,_ = my_function(\"Santhosh\",\"Kumar\")\n",
    "\n",
    "fname"
   ]
  },
  {
   "cell_type": "code",
   "execution_count": 11,
   "metadata": {},
   "outputs": [],
   "source": [
    "# For Else Statement\n",
    "\n",
    "def is_prime(num):\n",
    "    for i in range(2,num):\n",
    "        if num % i ==0:\n",
    "            print(\"This number is not a prime number\")\n",
    "            break;\n",
    "    else:\n",
    "        print(\"This is prime number\")"
   ]
  },
  {
   "cell_type": "code",
   "execution_count": 12,
   "metadata": {},
   "outputs": [
    {
     "name": "stdout",
     "output_type": "stream",
     "text": [
      "This is prime number\n"
     ]
    }
   ],
   "source": [
    "is_prime(7)"
   ]
  },
  {
   "cell_type": "code",
   "execution_count": 13,
   "metadata": {},
   "outputs": [
    {
     "name": "stdout",
     "output_type": "stream",
     "text": [
      "This is prime number\n"
     ]
    }
   ],
   "source": [
    "is_prime(19)"
   ]
  },
  {
   "cell_type": "code",
   "execution_count": 14,
   "metadata": {},
   "outputs": [],
   "source": [
    "def is_prime(num):\n",
    "    for i in range(2,num):\n",
    "        if num % i ==0:\n",
    "            return False\n",
    "            break;\n",
    "    else:\n",
    "        return True"
   ]
  },
  {
   "cell_type": "code",
   "execution_count": 15,
   "metadata": {},
   "outputs": [
    {
     "data": {
      "text/plain": [
       "False"
      ]
     },
     "execution_count": 15,
     "metadata": {},
     "output_type": "execute_result"
    }
   ],
   "source": [
    "is_prime(18)"
   ]
  }
 ],
 "metadata": {
  "kernelspec": {
   "display_name": "Python 3",
   "language": "python",
   "name": "python3"
  },
  "language_info": {
   "codemirror_mode": {
    "name": "ipython",
    "version": 3
   },
   "file_extension": ".py",
   "mimetype": "text/x-python",
   "name": "python",
   "nbconvert_exporter": "python",
   "pygments_lexer": "ipython3",
   "version": "3.7.4"
  }
 },
 "nbformat": 4,
 "nbformat_minor": 2
}
