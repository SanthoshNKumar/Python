{
 "cells": [
  {
   "cell_type": "code",
   "execution_count": 1,
   "metadata": {},
   "outputs": [],
   "source": [
    "import sqlite3"
   ]
  },
  {
   "cell_type": "code",
   "execution_count": 2,
   "metadata": {},
   "outputs": [],
   "source": [
    "# Create and Connect to the Databse 'Santhosh'\n",
    "\n",
    "c = sqlite3.connect(\"MyDatabase\")"
   ]
  },
  {
   "cell_type": "code",
   "execution_count": 3,
   "metadata": {},
   "outputs": [
    {
     "data": {
      "text/plain": [
       "<sqlite3.Cursor at 0x1a7f2ab8260>"
      ]
     },
     "execution_count": 3,
     "metadata": {},
     "output_type": "execute_result"
    }
   ],
   "source": [
    "# Delete Table from Data base \n",
    "\n",
    "c.execute('drop table if exists company')"
   ]
  },
  {
   "cell_type": "code",
   "execution_count": 4,
   "metadata": {},
   "outputs": [
    {
     "data": {
      "text/plain": [
       "<sqlite3.Cursor at 0x1a7f2bf7d50>"
      ]
     },
     "execution_count": 4,
     "metadata": {},
     "output_type": "execute_result"
    }
   ],
   "source": [
    "# Create Table\n",
    "\n",
    "c.execute('''create table company(ID INT PRIMARY KEY NOT NULL,NAME TEXT NOT NULL,AGE INT NOT NULL,ADDRESS CHAR(50),SALARY REAL NOT NULL)''')"
   ]
  },
  {
   "cell_type": "code",
   "execution_count": 5,
   "metadata": {},
   "outputs": [
    {
     "name": "stdout",
     "output_type": "stream",
     "text": [
      "<sqlite3.Cursor object at 0x000001A7F2BF79D0>\n"
     ]
    }
   ],
   "source": [
    "print(c.execute('select * from company'))"
   ]
  },
  {
   "cell_type": "code",
   "execution_count": 9,
   "metadata": {},
   "outputs": [
    {
     "data": {
      "text/plain": [
       "<sqlite3.Cursor at 0x1a7f2bf7c70>"
      ]
     },
     "execution_count": 9,
     "metadata": {},
     "output_type": "execute_result"
    }
   ],
   "source": [
    "# Insert Data into table 'company'\n",
    "\n",
    "c.execute(\"insert into company(ID,NAME,AGE,ADDRESS,salary) values(1,'Santhosh',32,'Nagarabhavi',140000)\")\n",
    "\n",
    "c.execute(\"insert into company(ID,Name,age,address,salary) values(2,'Anand',35,'Kengeri',160000)\")\n",
    "\n",
    "c.execute(\"insert into company(ID,name,age,address,salary) values(3,'Prashanth',34,'Hubli',145000)\")\n",
    "\n",
    "c.execute(\"INSERT INTO COMPANY VALUES(4,'SACHIN',35,'WhiteFIELD',110000)\")\n",
    "\n",
    "c.execute(\"INSERT INTO COMPANY(ID,NAME,AGE,ADDRESS,salary) VALUES(5,'Shreedevi',33,'Gulbarga',160000)\")\n",
    "\n",
    "c.execute(\"INSERT INTO COMPANY(ID,NAME,AGE,ADDRESS,salary) VALUES(6,'Harsha',31,'Belary',120000)\")"
   ]
  },
  {
   "cell_type": "code",
   "execution_count": 10,
   "metadata": {},
   "outputs": [
    {
     "data": {
      "text/plain": [
       "<function Connection.commit>"
      ]
     },
     "execution_count": 10,
     "metadata": {},
     "output_type": "execute_result"
    }
   ],
   "source": [
    "c.commit # Commit the chnages made on the data base"
   ]
  },
  {
   "cell_type": "code",
   "execution_count": 11,
   "metadata": {},
   "outputs": [
    {
     "name": "stdout",
     "output_type": "stream",
     "text": [
      "(1, 'Santhosh', 32, 'Nagarabhavi', 140000.0)\n",
      "(2, 'Anand', 35, 'Kengeri', 160000.0)\n",
      "(3, 'Prashanth', 34, 'Hubli', 145000.0)\n",
      "(4, 'SACHIN', 35, 'WhiteFIELD', 110000.0)\n",
      "(5, 'Shreedevi', 33, 'Gulbarga', 160000.0)\n",
      "(6, 'Harsha', 31, 'Belary', 120000.0)\n"
     ]
    },
    {
     "data": {
      "text/plain": [
       "[None, None, None, None, None, None]"
      ]
     },
     "execution_count": 11,
     "metadata": {},
     "output_type": "execute_result"
    }
   ],
   "source": [
    "[print(x) for x in c.execute(\"select * from company\")]"
   ]
  },
  {
   "cell_type": "code",
   "execution_count": 17,
   "metadata": {},
   "outputs": [
    {
     "name": "stdout",
     "output_type": "stream",
     "text": [
      "(6,)\n"
     ]
    },
    {
     "data": {
      "text/plain": [
       "[None]"
      ]
     },
     "execution_count": 17,
     "metadata": {},
     "output_type": "execute_result"
    }
   ],
   "source": [
    "# Get the count of the observation in the table\n",
    "\n",
    "[print(x) for x in c.execute('select count(*) from company')]"
   ]
  },
  {
   "cell_type": "code",
   "execution_count": 18,
   "metadata": {},
   "outputs": [
    {
     "data": {
      "text/plain": [
       "<sqlite3.Cursor at 0x1a7f2c40960>"
      ]
     },
     "execution_count": 18,
     "metadata": {},
     "output_type": "execute_result"
    }
   ],
   "source": [
    "# Delete the row in the table\n",
    "\n",
    "c.execute(\"delete from company where name ='SACHIN' \")"
   ]
  },
  {
   "cell_type": "code",
   "execution_count": 19,
   "metadata": {},
   "outputs": [],
   "source": [
    "c.commit()"
   ]
  },
  {
   "cell_type": "code",
   "execution_count": 20,
   "metadata": {},
   "outputs": [
    {
     "data": {
      "text/plain": [
       "[(5,)]"
      ]
     },
     "execution_count": 20,
     "metadata": {},
     "output_type": "execute_result"
    }
   ],
   "source": [
    "[x for x in c.execute('select count(*) from company')]"
   ]
  },
  {
   "cell_type": "code",
   "execution_count": 21,
   "metadata": {},
   "outputs": [],
   "source": [
    "c.execute(\"INSERT INTO COMPANY VALUES(4,'SACHIN',35,'WhiteFIELD',110000)\")\n",
    "\n",
    "c.commit()"
   ]
  },
  {
   "cell_type": "code",
   "execution_count": 22,
   "metadata": {},
   "outputs": [
    {
     "name": "stdout",
     "output_type": "stream",
     "text": [
      "(1, 'Santhosh', 32, 'Nagarabhavi', 140000.0)\n",
      "(2, 'Anand', 35, 'Kengeri', 160000.0)\n",
      "(3, 'Prashanth', 34, 'Hubli', 145000.0)\n",
      "(5, 'Shreedevi', 33, 'Gulbarga', 160000.0)\n",
      "(6, 'Harsha', 31, 'Belary', 120000.0)\n",
      "(4, 'SACHIN', 35, 'WhiteFIELD', 110000.0)\n"
     ]
    },
    {
     "data": {
      "text/plain": [
       "[None, None, None, None, None, None]"
      ]
     },
     "execution_count": 22,
     "metadata": {},
     "output_type": "execute_result"
    }
   ],
   "source": [
    "[print(x) for x in c.execute(\"select * from company\")]"
   ]
  },
  {
   "cell_type": "code",
   "execution_count": 25,
   "metadata": {},
   "outputs": [],
   "source": [
    "# Get all the tables in database\n"
   ]
  },
  {
   "cell_type": "code",
   "execution_count": 26,
   "metadata": {},
   "outputs": [
    {
     "ename": "OperationalError",
     "evalue": "no such table: COMPANY1",
     "output_type": "error",
     "traceback": [
      "\u001b[1;31m---------------------------------------------------------------------------\u001b[0m",
      "\u001b[1;31mOperationalError\u001b[0m                          Traceback (most recent call last)",
      "\u001b[1;32m<ipython-input-26-47345e8724f3>\u001b[0m in \u001b[0;36m<module>\u001b[1;34m\u001b[0m\n\u001b[0;32m      1\u001b[0m \u001b[1;31m# Drop table\u001b[0m\u001b[1;33m\u001b[0m\u001b[1;33m\u001b[0m\u001b[1;33m\u001b[0m\u001b[0m\n\u001b[0;32m      2\u001b[0m \u001b[1;33m\u001b[0m\u001b[0m\n\u001b[1;32m----> 3\u001b[1;33m \u001b[0mc\u001b[0m\u001b[1;33m.\u001b[0m\u001b[0mexecute\u001b[0m\u001b[1;33m(\u001b[0m\u001b[1;34m\"DROP TABLE COMPANY1\"\u001b[0m\u001b[1;33m)\u001b[0m\u001b[1;33m\u001b[0m\u001b[1;33m\u001b[0m\u001b[0m\n\u001b[0m",
      "\u001b[1;31mOperationalError\u001b[0m: no such table: COMPANY1"
     ]
    }
   ],
   "source": [
    "# Drop table\n",
    "\n",
    "c.execute(\"DROP TABLE COMPANY1\")"
   ]
  },
  {
   "cell_type": "code",
   "execution_count": 30,
   "metadata": {},
   "outputs": [
    {
     "data": {
      "text/plain": [
       "[('Santhosh', 'Nagarabhavi', 140000.0),\n",
       " ('Anand', 'Kengeri', 160000.0),\n",
       " ('Prashanth', 'Hubli', 145000.0),\n",
       " ('Shreedevi', 'Gulbarga', 160000.0),\n",
       " ('Harsha', 'Belary', 120000.0),\n",
       " ('SACHIN', 'WhiteFIELD', 110000.0)]"
      ]
     },
     "execution_count": 30,
     "metadata": {},
     "output_type": "execute_result"
    }
   ],
   "source": [
    "# SQLite - Boolean Expressions\n",
    "\n",
    "[x for x in c.execute(\"select Name,ADDRESS,SALARY from company where 'SALARY'>130000\")]"
   ]
  },
  {
   "cell_type": "code",
   "execution_count": 32,
   "metadata": {},
   "outputs": [
    {
     "data": {
      "text/plain": [
       "[(4, 'SACHIN', 35, 'WhiteFIELD', 110000.0)]"
      ]
     },
     "execution_count": 32,
     "metadata": {},
     "output_type": "execute_result"
    }
   ],
   "source": [
    "[x for x in c.execute(\"select * from company where salary = 110000\")]"
   ]
  },
  {
   "cell_type": "code",
   "execution_count": 35,
   "metadata": {},
   "outputs": [
    {
     "data": {
      "text/plain": [
       "[(21,)]"
      ]
     },
     "execution_count": 35,
     "metadata": {},
     "output_type": "execute_result"
    }
   ],
   "source": [
    "# SQLite - Numeric Expression\n",
    "\n",
    "[x for x in c.execute(\"select (15+6) as addition\")]"
   ]
  },
  {
   "cell_type": "code",
   "execution_count": 38,
   "metadata": {},
   "outputs": [
    {
     "data": {
      "text/plain": [
       "[(6,)]"
      ]
     },
     "execution_count": 38,
     "metadata": {},
     "output_type": "execute_result"
    }
   ],
   "source": [
    "[x for x in c.execute(\"SELECT COUNT(*) AS 'RECORDS' FROM COMPANY\")]"
   ]
  },
  {
   "cell_type": "code",
   "execution_count": 44,
   "metadata": {},
   "outputs": [
    {
     "data": {
      "text/plain": [
       "[(2, 'Anand', 35, 'Kengeri', 160000.0),\n",
       " (3, 'Prashanth', 34, 'Hubli', 145000.0),\n",
       " (5, 'Shreedevi', 33, 'Gulbarga', 160000.0)]"
      ]
     },
     "execution_count": 44,
     "metadata": {},
     "output_type": "execute_result"
    }
   ],
   "source": [
    "# Condition : And\n",
    "\n",
    "[x for x in c.execute(\"select * from company where age>=33 and salary>140000\")]"
   ]
  },
  {
   "cell_type": "code",
   "execution_count": 45,
   "metadata": {},
   "outputs": [
    {
     "data": {
      "text/plain": [
       "[(2, 'Anand', 35, 'Kengeri', 160000.0),\n",
       " (3, 'Prashanth', 34, 'Hubli', 145000.0),\n",
       " (5, 'Shreedevi', 33, 'Gulbarga', 160000.0),\n",
       " (4, 'SACHIN', 35, 'WhiteFIELD', 110000.0)]"
      ]
     },
     "execution_count": 45,
     "metadata": {},
     "output_type": "execute_result"
    }
   ],
   "source": [
    "# Condition : or\n",
    "\n",
    "[x for x in c.execute(\"select * from company where age>=33 or salary>140000\")]"
   ]
  },
  {
   "cell_type": "code",
   "execution_count": 48,
   "metadata": {},
   "outputs": [
    {
     "data": {
      "text/plain": [
       "[(1, 'Santhosh', 32, 'Nagarabhavi', 140000.0),\n",
       " (2, 'Anand', 35, 'Kengeri', 160000.0),\n",
       " (3, 'Prashanth', 34, 'Hubli', 145000.0),\n",
       " (5, 'Shreedevi', 33, 'Gulbarga', 160000.0),\n",
       " (6, 'Harsha', 31, 'Belary', 120000.0),\n",
       " (4, 'SACHIN', 35, 'WhiteFIELD', 110000.0)]"
      ]
     },
     "execution_count": 48,
     "metadata": {},
     "output_type": "execute_result"
    }
   ],
   "source": [
    "# Condition : not NULL\n",
    "\n",
    "[x for x in c.execute(\"Select * from company where age is not null\")]"
   ]
  },
  {
   "cell_type": "code",
   "execution_count": 50,
   "metadata": {},
   "outputs": [
    {
     "data": {
      "text/plain": [
       "[]"
      ]
     },
     "execution_count": 50,
     "metadata": {},
     "output_type": "execute_result"
    }
   ],
   "source": [
    "# Condition : NULL\n",
    "\n",
    "[x for x in c.execute(\"Select * from company where age is null\")]"
   ]
  },
  {
   "cell_type": "code",
   "execution_count": 52,
   "metadata": {},
   "outputs": [
    {
     "data": {
      "text/plain": [
       "[(1, 'Santhosh', 32, 'Nagarabhavi', 140000.0),\n",
       " (4, 'SACHIN', 35, 'WhiteFIELD', 110000.0)]"
      ]
     },
     "execution_count": 52,
     "metadata": {},
     "output_type": "execute_result"
    }
   ],
   "source": [
    "# Condition : lists down all the records where NAME starts with 'Ki', does not matter what comes after 'sa'.\n",
    "\n",
    "[x for x in c.execute(\"Select * from company where name like 'sa%' \")]"
   ]
  },
  {
   "cell_type": "code",
   "execution_count": 61,
   "metadata": {},
   "outputs": [
    {
     "data": {
      "text/plain": [
       "[]"
      ]
     },
     "execution_count": 61,
     "metadata": {},
     "output_type": "execute_result"
    }
   ],
   "source": [
    "# Condition : lists down all the records where NAME starts with 'Ki', does not matter what comes after 'sa'.\n",
    "\n",
    "[x for x in c.execute(\"Select * from company where name GLOB 'sa*'\")]"
   ]
  },
  {
   "cell_type": "code",
   "execution_count": 62,
   "metadata": {},
   "outputs": [
    {
     "data": {
      "text/plain": [
       "[(3, 'Prashanth', 34, 'Hubli', 145000.0)]"
      ]
     },
     "execution_count": 62,
     "metadata": {},
     "output_type": "execute_result"
    }
   ],
   "source": [
    "# Condition : In\n",
    "\n",
    "[x for x in c.execute(\"select * from company where age in(34,36)\")]"
   ]
  },
  {
   "cell_type": "code",
   "execution_count": 63,
   "metadata": {},
   "outputs": [
    {
     "data": {
      "text/plain": [
       "[(1, 'Santhosh', 32, 'Nagarabhavi', 140000.0),\n",
       " (2, 'Anand', 35, 'Kengeri', 160000.0),\n",
       " (5, 'Shreedevi', 33, 'Gulbarga', 160000.0),\n",
       " (6, 'Harsha', 31, 'Belary', 120000.0),\n",
       " (4, 'SACHIN', 35, 'WhiteFIELD', 110000.0)]"
      ]
     },
     "execution_count": 63,
     "metadata": {},
     "output_type": "execute_result"
    }
   ],
   "source": [
    "# Condition : not In\n",
    "\n",
    "[x for x in c.execute(\"select * from company where age not in(34,36)\")]"
   ]
  },
  {
   "cell_type": "code",
   "execution_count": 68,
   "metadata": {},
   "outputs": [
    {
     "data": {
      "text/plain": [
       "[(1, 'Santhosh', 32, 'Mysore', 140000.0),\n",
       " (2, 'Anand', 35, 'Kengeri', 160000.0),\n",
       " (3, 'Prashanth', 34, 'Hubli', 145000.0),\n",
       " (5, 'Shreedevi', 33, 'Gulbarga', 160000.0),\n",
       " (6, 'Harsha', 31, 'Belary', 120000.0),\n",
       " (4, 'SACHIN', 35, 'WhiteFIELD', 110000.0)]"
      ]
     },
     "execution_count": 68,
     "metadata": {},
     "output_type": "execute_result"
    }
   ],
   "source": [
    "# UPDATE Query is used to modify the existing records in a table. \n",
    "\n",
    "c.execute(\"update company set ADDRESS = 'Mysore'  where id =1\")\n",
    "\n",
    "[x for x in c.execute(\"select * from company\")]"
   ]
  },
  {
   "cell_type": "code",
   "execution_count": 70,
   "metadata": {},
   "outputs": [
    {
     "data": {
      "text/plain": [
       "[(1, 'Santhosh', 32, 'Texas', 130000.0),\n",
       " (2, 'Anand', 35, 'Texas', 130000.0),\n",
       " (3, 'Prashanth', 34, 'Texas', 130000.0),\n",
       " (5, 'Shreedevi', 33, 'Texas', 130000.0),\n",
       " (6, 'Harsha', 31, 'Texas', 130000.0),\n",
       " (4, 'SACHIN', 35, 'Texas', 130000.0)]"
      ]
     },
     "execution_count": 70,
     "metadata": {},
     "output_type": "execute_result"
    }
   ],
   "source": [
    "c.execute(\"update company set address='Texas', salary = 130000\")\n",
    "\n",
    "[x for x in c.execute(\"select * from company\")]"
   ]
  },
  {
   "cell_type": "code",
   "execution_count": 76,
   "metadata": {},
   "outputs": [
    {
     "data": {
      "text/plain": [
       "[]"
      ]
     },
     "execution_count": 76,
     "metadata": {},
     "output_type": "execute_result"
    }
   ],
   "source": [
    "# Delete all the rows of data in company\n",
    "\n",
    "c.execute(\"delete from company\")\n",
    "\n",
    "[x for x in c.execute(\"select * from company\")]"
   ]
  },
  {
   "cell_type": "code",
   "execution_count": 77,
   "metadata": {},
   "outputs": [],
   "source": [
    "# Insert Data\n",
    "\n",
    "\n",
    "# Insert Data into table 'company'\n",
    "\n",
    "c.execute(\"insert into company(ID,NAME,AGE,ADDRESS,salary) values(1,'Santhosh',32,'Nagarabhavi',140000)\")\n",
    "\n",
    "c.execute(\"insert into company(ID,Name,age,address,salary) values(2,'Anand',35,'Kengeri',160000)\")\n",
    "\n",
    "c.execute(\"insert into company(ID,name,age,address,salary) values(3,'Prashanth',34,'Hubli',145000)\")\n",
    "\n",
    "c.execute(\"INSERT INTO COMPANY VALUES(4,'SACHIN',35,'WhiteFIELD',110000)\")\n",
    "\n",
    "c.execute(\"INSERT INTO COMPANY(ID,NAME,AGE,ADDRESS,salary) VALUES(5,'Shreedevi',33,'Gulbarga',160000)\")\n",
    "\n",
    "c.execute(\"INSERT INTO COMPANY(ID,NAME,AGE,ADDRESS,salary) VALUES(6,'Harsha',31,'Belary',120000)\")\n",
    "\n",
    "c.commit()"
   ]
  },
  {
   "cell_type": "code",
   "execution_count": 78,
   "metadata": {},
   "outputs": [
    {
     "data": {
      "text/plain": [
       "[(1, 'Santhosh', 32, 'Nagarabhavi', 140000.0),\n",
       " (2, 'Anand', 35, 'Kengeri', 160000.0),\n",
       " (3, 'Prashanth', 34, 'Hubli', 145000.0),\n",
       " (4, 'SACHIN', 35, 'WhiteFIELD', 110000.0),\n",
       " (5, 'Shreedevi', 33, 'Gulbarga', 160000.0),\n",
       " (6, 'Harsha', 31, 'Belary', 120000.0)]"
      ]
     },
     "execution_count": 78,
     "metadata": {},
     "output_type": "execute_result"
    }
   ],
   "source": [
    "[x for x in c.execute(\"select * from company\")]"
   ]
  },
  {
   "cell_type": "code",
   "execution_count": 80,
   "metadata": {},
   "outputs": [],
   "source": [
    "# WHERE SALARY LIKE '200%' : Finds any values that start with 200\n",
    "\n",
    "# WHERE SALARY LIKE '%200%' : Finds any values that have 200 in any position\n",
    "\n",
    "# WHERE SALARY LIKE '_00%' : Finds any values that have 00 in the second and third positions\n",
    "\n",
    "# WHERE SALARY LIKE '2_%_%' : Finds any values that start with 2 and are at least 3 characters in length\n",
    "\n",
    "# WHERE SALARY LIKE '%2' : Finds any values that end with 2\n",
    "\n",
    "# WHERE SALARY LIKE '_2%3' : Finds any values that has a 2 in the second position and ends with a 3\n",
    "\n",
    "# WHERE SALARY LIKE '2___3' : Finds any values in a five-digit number that starts with 2 and ends with 3"
   ]
  },
  {
   "cell_type": "code",
   "execution_count": 86,
   "metadata": {},
   "outputs": [
    {
     "data": {
      "text/plain": [
       "[(1, 'Santhosh', 32, 'Nagarabhavi', 140000.0),\n",
       " (3, 'Prashanth', 34, 'Hubli', 145000.0)]"
      ]
     },
     "execution_count": 86,
     "metadata": {},
     "output_type": "execute_result"
    }
   ],
   "source": [
    "[x for x in c.execute(\"select * from company where salary like '14%' \")]"
   ]
  },
  {
   "cell_type": "code",
   "execution_count": null,
   "metadata": {},
   "outputs": [],
   "source": [
    "# GLOB operator is used to match only text values against a pattern using wildcards\n",
    "\n",
    "# The asterisk sign (*) : represents zero or multiple numbers or characters.\n",
    "\n",
    "# The question mark (?) : represents a single number or character."
   ]
  },
  {
   "cell_type": "code",
   "execution_count": null,
   "metadata": {},
   "outputs": [],
   "source": [
    "# WHERE SALARY GLOB '200*' : Finds any values that start with 200\n",
    "\n",
    "# WHERE SALARY GLOB '*200*' : Finds any values that have 200 in any position\n",
    "\n",
    "# WHERE SALARY GLOB '?00*' : Finds any values that have 00 in the second and third positions\n",
    "\n",
    "# WHERE SALARY GLOB '2??' : Finds any values that start with 2 and are at least 3 characters in length\n",
    "\n",
    "# WHERE SALARY GLOB '*2' : Finds any values that end with 2\n",
    "\n",
    "# WHERE SALARY GLOB '?2*3' : Finds any values that have a 2 in the second position and end with a 3\n",
    "\n",
    "# WHERE SALARY GLOB '2???3' : Finds any values in a five-digit number that start with 2 and end with 3\n",
    "\n",
    "# SELECT * FROM COMPANY WHERE AGE  GLOB '2*': display all the records from COMPANY table, where AGE starts with 2\n",
    "\n",
    "# SELECT * FROM COMPANY WHERE ADDRESS  GLOB '*-*' :  which will display all the records from COMPANY table where ADDRESS will have a hyphen (-) inside the text"
   ]
  },
  {
   "cell_type": "code",
   "execution_count": 90,
   "metadata": {},
   "outputs": [
    {
     "data": {
      "text/plain": [
       "[(1, 'Santhosh', 32, 'Nagarabhavi', 140000.0),\n",
       " (2, 'Anand', 35, 'Kengeri', 160000.0),\n",
       " (3, 'Prashanth', 34, 'Hubli', 145000.0)]"
      ]
     },
     "execution_count": 90,
     "metadata": {},
     "output_type": "execute_result"
    }
   ],
   "source": [
    "# Limit  clause is used both limit data amount returned by the select statment\n",
    "\n",
    "[x for x in c.execute(\"select * from company limit 3\")]"
   ]
  },
  {
   "cell_type": "code",
   "execution_count": 93,
   "metadata": {},
   "outputs": [
    {
     "data": {
      "text/plain": [
       "[(4, 'SACHIN', 35, 'WhiteFIELD', 110000.0),\n",
       " (5, 'Shreedevi', 33, 'Gulbarga', 160000.0)]"
      ]
     },
     "execution_count": 93,
     "metadata": {},
     "output_type": "execute_result"
    }
   ],
   "source": [
    "# offset :  which picks up 2 records starting from the 4th position\n",
    "\n",
    "[x for x in c.execute(\"select * from company limit 2 offset 3\")]"
   ]
  },
  {
   "cell_type": "code",
   "execution_count": 94,
   "metadata": {},
   "outputs": [
    {
     "data": {
      "text/plain": [
       "[(4, 'SACHIN', 35, 'WhiteFIELD', 110000.0),\n",
       " (6, 'Harsha', 31, 'Belary', 120000.0),\n",
       " (1, 'Santhosh', 32, 'Nagarabhavi', 140000.0),\n",
       " (3, 'Prashanth', 34, 'Hubli', 145000.0),\n",
       " (2, 'Anand', 35, 'Kengeri', 160000.0),\n",
       " (5, 'Shreedevi', 33, 'Gulbarga', 160000.0)]"
      ]
     },
     "execution_count": 94,
     "metadata": {},
     "output_type": "execute_result"
    }
   ],
   "source": [
    "# Order by\n",
    "\n",
    "[x for x in c.execute(\"select * from company order by salary\")]"
   ]
  },
  {
   "cell_type": "code",
   "execution_count": 95,
   "metadata": {},
   "outputs": [
    {
     "data": {
      "text/plain": [
       "[(4, 'SACHIN', 35, 'WhiteFIELD', 110000.0),\n",
       " (6, 'Harsha', 31, 'Belary', 120000.0),\n",
       " (1, 'Santhosh', 32, 'Nagarabhavi', 140000.0),\n",
       " (3, 'Prashanth', 34, 'Hubli', 145000.0),\n",
       " (2, 'Anand', 35, 'Kengeri', 160000.0),\n",
       " (5, 'Shreedevi', 33, 'Gulbarga', 160000.0)]"
      ]
     },
     "execution_count": 95,
     "metadata": {},
     "output_type": "execute_result"
    }
   ],
   "source": [
    "# Order by  : Assending\n",
    "\n",
    "[x for x in c.execute(\"select * from company order by salary ASC\")]"
   ]
  },
  {
   "cell_type": "code",
   "execution_count": 97,
   "metadata": {},
   "outputs": [
    {
     "data": {
      "text/plain": [
       "[(2, 'Anand', 35, 'Kengeri', 160000.0),\n",
       " (5, 'Shreedevi', 33, 'Gulbarga', 160000.0),\n",
       " (3, 'Prashanth', 34, 'Hubli', 145000.0),\n",
       " (1, 'Santhosh', 32, 'Nagarabhavi', 140000.0),\n",
       " (6, 'Harsha', 31, 'Belary', 120000.0),\n",
       " (4, 'SACHIN', 35, 'WhiteFIELD', 110000.0)]"
      ]
     },
     "execution_count": 97,
     "metadata": {},
     "output_type": "execute_result"
    }
   ],
   "source": [
    "# Order by  : Assending\n",
    "\n",
    "[x for x in c.execute(\"select * from company order by salary DESC\")]"
   ]
  },
  {
   "cell_type": "code",
   "execution_count": 98,
   "metadata": {},
   "outputs": [
    {
     "data": {
      "text/plain": [
       "[(2, 'Anand', 35, 'Kengeri', 160000.0),\n",
       " (6, 'Harsha', 31, 'Belary', 120000.0),\n",
       " (3, 'Prashanth', 34, 'Hubli', 145000.0),\n",
       " (4, 'SACHIN', 35, 'WhiteFIELD', 110000.0),\n",
       " (1, 'Santhosh', 32, 'Nagarabhavi', 140000.0),\n",
       " (5, 'Shreedevi', 33, 'Gulbarga', 160000.0)]"
      ]
     },
     "execution_count": 98,
     "metadata": {},
     "output_type": "execute_result"
    }
   ],
   "source": [
    "[x for x in c.execute(\"select * from company order by name,salary asc\")]"
   ]
  },
  {
   "cell_type": "code",
   "execution_count": 99,
   "metadata": {},
   "outputs": [
    {
     "data": {
      "text/plain": [
       "[('Anand', 160000.0),\n",
       " ('Harsha', 120000.0),\n",
       " ('Prashanth', 145000.0),\n",
       " ('SACHIN', 110000.0),\n",
       " ('Santhosh', 140000.0),\n",
       " ('Shreedevi', 160000.0)]"
      ]
     },
     "execution_count": 99,
     "metadata": {},
     "output_type": "execute_result"
    }
   ],
   "source": [
    "# Group by\n",
    "\n",
    "[x for x in c.execute(\"select name,sum(salary) from company group by name order by name\")]"
   ]
  },
  {
   "cell_type": "code",
   "execution_count": 101,
   "metadata": {},
   "outputs": [],
   "source": [
    "c.execute(\"insert into company(ID,NAME,AGE,ADDRESS,salary) values(7,'Santhosh',32,'Nagarabhavi',140000)\")\n",
    "\n",
    "c.commit()"
   ]
  },
  {
   "cell_type": "code",
   "execution_count": 102,
   "metadata": {},
   "outputs": [
    {
     "data": {
      "text/plain": [
       "[(1, 'Santhosh', 32, 'Nagarabhavi', 140000.0),\n",
       " (2, 'Anand', 35, 'Kengeri', 160000.0),\n",
       " (3, 'Prashanth', 34, 'Hubli', 145000.0),\n",
       " (4, 'SACHIN', 35, 'WhiteFIELD', 110000.0),\n",
       " (5, 'Shreedevi', 33, 'Gulbarga', 160000.0),\n",
       " (6, 'Harsha', 31, 'Belary', 120000.0),\n",
       " (7, 'Santhosh', 32, 'Nagarabhavi', 140000.0)]"
      ]
     },
     "execution_count": 102,
     "metadata": {},
     "output_type": "execute_result"
    }
   ],
   "source": [
    "[x for x in c.execute(\"select * from company\")]"
   ]
  },
  {
   "cell_type": "code",
   "execution_count": 104,
   "metadata": {},
   "outputs": [
    {
     "data": {
      "text/plain": [
       "[(1, 'Santhosh', 32, 'Nagarabhavi', 140000.0)]"
      ]
     },
     "execution_count": 104,
     "metadata": {},
     "output_type": "execute_result"
    }
   ],
   "source": [
    "# HAVING clause enables you to specify conditions that filter which group results appear in the final results.\n",
    "\n",
    "[x for x in c.execute(\"select * from company group by name having count(name)>1\")]\n"
   ]
  },
  {
   "cell_type": "code",
   "execution_count": 108,
   "metadata": {},
   "outputs": [
    {
     "data": {
      "text/plain": [
       "[('Santhosh',),\n",
       " ('Anand',),\n",
       " ('Prashanth',),\n",
       " ('SACHIN',),\n",
       " ('Shreedevi',),\n",
       " ('Harsha',),\n",
       " ('Santhosh',)]"
      ]
     },
     "execution_count": 108,
     "metadata": {},
     "output_type": "execute_result"
    }
   ],
   "source": [
    "# DISTINCT keyword is used in SELECT statement to eliminate all the duplicate records and fetching only the unique records.\n",
    "\n",
    "[x for x in c.execute(\"select name from company\")]"
   ]
  },
  {
   "cell_type": "code",
   "execution_count": 111,
   "metadata": {},
   "outputs": [
    {
     "data": {
      "text/plain": [
       "[('Santhosh',),\n",
       " ('Anand',),\n",
       " ('Prashanth',),\n",
       " ('SACHIN',),\n",
       " ('Shreedevi',),\n",
       " ('Harsha',)]"
      ]
     },
     "execution_count": 111,
     "metadata": {},
     "output_type": "execute_result"
    }
   ],
   "source": [
    "[x for x in c.execute(\"select distinct name from company\")]"
   ]
  },
  {
   "cell_type": "code",
   "execution_count": 112,
   "metadata": {},
   "outputs": [],
   "source": [
    "# Constraints:\n",
    "\n",
    "# NOT NULL Constraint − Ensures that a column cannot have NULL value.\n",
    "\n",
    "# DEFAULT Constraint − Provides a default value for a column when none is specified.\n",
    "\n",
    "# UNIQUE Constraint − Ensures that all values in a column are different.\n",
    "\n",
    "# PRIMARY Key − Uniquely identifies each row/record in a database table.\n",
    "\n",
    "# CHECK Constraint − Ensures that all values in a column satisfies certain conditions."
   ]
  },
  {
   "cell_type": "code",
   "execution_count": 113,
   "metadata": {},
   "outputs": [],
   "source": [
    "#CREATE TABLE COMPANY(\n",
    "#   ID INT PRIMARY KEY     NOT NULL,\n",
    "#   NAME           TEXT    NOT NULL,\n",
    "#   AGE            INT     NOT NULL UNIQUE,\n",
    "#   ADDRESS        CHAR(50),\n",
    "#   SALARY         REAL    DEFAULT 50000.00\n",
    "#);\n",
    "\n",
    "# CHECK Constraint\n",
    "# SALARY REAL  CHECK(SALARY > 0)\n"
   ]
  },
  {
   "cell_type": "code",
   "execution_count": 115,
   "metadata": {},
   "outputs": [],
   "source": [
    "# JOINS : Joins clause is used to combine records from two or more tables in a database. \n",
    "\n",
    "# The CROSS JOIN\n",
    "\n",
    "# The INNER JOIN\n",
    "\n",
    "# The OUTER JOIN\n"
   ]
  },
  {
   "cell_type": "code",
   "execution_count": 118,
   "metadata": {},
   "outputs": [
    {
     "data": {
      "text/plain": [
       "<sqlite3.Cursor at 0x1a7f4ad3b90>"
      ]
     },
     "execution_count": 118,
     "metadata": {},
     "output_type": "execute_result"
    }
   ],
   "source": [
    "c.execute(\"CREATE TABLE COMPANY1(ID INT PRIMARY KEY NOT NULL,NAME TEXT NOT NULL,AGE INT NOT NULL,ADDRESS CHAR(50),SALARY REAL)\")"
   ]
  },
  {
   "cell_type": "code",
   "execution_count": 120,
   "metadata": {},
   "outputs": [],
   "source": [
    "c.execute(\"INSERT INTO COMPANY1 (ID,NAME,AGE,ADDRESS,SALARY) VALUES (1, 'Paul', 32, 'California', 20000.00 )\");\n",
    "\n",
    "c.execute(\"INSERT INTO COMPANY1 (ID,NAME,AGE,ADDRESS,SALARY) VALUES (2, 'Allen', 25, 'Texas', 15000.00 )\");\n",
    "\n",
    "c.execute(\"INSERT INTO COMPANY1 (ID,NAME,AGE,ADDRESS,SALARY) VALUES (3, 'Teddy', 23, 'Norway', 20000.00 )\");\n",
    "\n",
    "c.execute(\"INSERT INTO COMPANY1 (ID,NAME,AGE,ADDRESS,SALARY) VALUES (4, 'Mark', 25, 'Rich-Mond ', 65000.00 )\");\n",
    "\n",
    "c.execute(\"INSERT INTO COMPANY1 (ID,NAME,AGE,ADDRESS,SALARY) VALUES (5, 'David', 27, 'Texas', 85000.00 )\");\n",
    "\n",
    "c.execute(\"INSERT INTO COMPANY1 (ID,NAME,AGE,ADDRESS,SALARY) VALUES (6, 'Kim', 22, 'South-Hall', 45000.00 )\");"
   ]
  },
  {
   "cell_type": "code",
   "execution_count": 121,
   "metadata": {},
   "outputs": [],
   "source": [
    "c.commit()"
   ]
  },
  {
   "cell_type": "code",
   "execution_count": 122,
   "metadata": {},
   "outputs": [
    {
     "data": {
      "text/plain": [
       "[(1, 'Paul', 32, 'California', 20000.0),\n",
       " (2, 'Allen', 25, 'Texas', 15000.0),\n",
       " (3, 'Teddy', 23, 'Norway', 20000.0),\n",
       " (4, 'Mark', 25, 'Rich-Mond ', 65000.0),\n",
       " (5, 'David', 27, 'Texas', 85000.0),\n",
       " (6, 'Kim', 22, 'South-Hall', 45000.0)]"
      ]
     },
     "execution_count": 122,
     "metadata": {},
     "output_type": "execute_result"
    }
   ],
   "source": [
    "[x for x in c.execute(\"select * from company1\")]"
   ]
  },
  {
   "cell_type": "code",
   "execution_count": 125,
   "metadata": {},
   "outputs": [],
   "source": [
    "# Create Another table 'Department'\n",
    "\n",
    "c.execute(\"CREATE TABLE DEPARTMENT(ID INT PRIMARY KEY NOT NULL,DEPT CHAR(50) NOT NULL,EMP_ID INT NOT NULL)\");"
   ]
  },
  {
   "cell_type": "code",
   "execution_count": 126,
   "metadata": {},
   "outputs": [],
   "source": [
    "c.execute(\"INSERT INTO DEPARTMENT (ID, DEPT, EMP_ID) VALUES (1, 'IT Billing', 1 )\");\n",
    "\n",
    "c.execute(\"INSERT INTO DEPARTMENT (ID, DEPT, EMP_ID) VALUES (2, 'Engineering', 2 )\");\n",
    "\n",
    "c.execute(\"INSERT INTO DEPARTMENT (ID, DEPT, EMP_ID) VALUES (3, 'Finance', 7 )\");"
   ]
  },
  {
   "cell_type": "code",
   "execution_count": 127,
   "metadata": {},
   "outputs": [],
   "source": [
    "c.commit()"
   ]
  },
  {
   "cell_type": "code",
   "execution_count": 128,
   "metadata": {},
   "outputs": [
    {
     "data": {
      "text/plain": [
       "[(1, 'IT Billing', 1), (2, 'Engineering', 2), (3, 'Finance', 7)]"
      ]
     },
     "execution_count": 128,
     "metadata": {},
     "output_type": "execute_result"
    }
   ],
   "source": [
    "[x for x in c.execute(\"select * from DEPARTMENT\")]"
   ]
  },
  {
   "cell_type": "code",
   "execution_count": 129,
   "metadata": {},
   "outputs": [
    {
     "data": {
      "text/plain": [
       "<sqlite3.Cursor at 0x1a7f4a842d0>"
      ]
     },
     "execution_count": 129,
     "metadata": {},
     "output_type": "execute_result"
    }
   ],
   "source": []
  },
  {
   "cell_type": "code",
   "execution_count": 131,
   "metadata": {},
   "outputs": [
    {
     "data": {
      "text/plain": [
       "[(1, 'Paul', 'IT Billing'),\n",
       " (2, 'Paul', 'Engineering'),\n",
       " (7, 'Paul', 'Finance'),\n",
       " (1, 'Allen', 'IT Billing'),\n",
       " (2, 'Allen', 'Engineering'),\n",
       " (7, 'Allen', 'Finance'),\n",
       " (1, 'Teddy', 'IT Billing'),\n",
       " (2, 'Teddy', 'Engineering'),\n",
       " (7, 'Teddy', 'Finance'),\n",
       " (1, 'Mark', 'IT Billing'),\n",
       " (2, 'Mark', 'Engineering'),\n",
       " (7, 'Mark', 'Finance'),\n",
       " (1, 'David', 'IT Billing'),\n",
       " (2, 'David', 'Engineering'),\n",
       " (7, 'David', 'Finance'),\n",
       " (1, 'Kim', 'IT Billing'),\n",
       " (2, 'Kim', 'Engineering'),\n",
       " (7, 'Kim', 'Finance')]"
      ]
     },
     "execution_count": 131,
     "metadata": {},
     "output_type": "execute_result"
    }
   ],
   "source": [
    "[x for x in c.execute(\"select emp_id, name,DEPT from company1 cross join DEPARTMENT\")]"
   ]
  },
  {
   "cell_type": "code",
   "execution_count": 133,
   "metadata": {},
   "outputs": [
    {
     "data": {
      "text/plain": [
       "[(1, 'Paul', 'IT Billing'),\n",
       " (2, 'Allen', 'Engineering'),\n",
       " (7, 'Teddy', 'Finance')]"
      ]
     },
     "execution_count": 133,
     "metadata": {},
     "output_type": "execute_result"
    }
   ],
   "source": [
    "# Inner Join\n",
    "\n",
    "\n",
    "\n",
    "[x for x in c.execute(\"select emp_id, name,dept from company1 inner join department on company1.id = department.id\")]"
   ]
  },
  {
   "cell_type": "code",
   "execution_count": 134,
   "metadata": {},
   "outputs": [],
   "source": [
    "# Outer Join\n",
    "\n",
    "# LEFT OUTER JOIN"
   ]
  },
  {
   "cell_type": "code",
   "execution_count": 135,
   "metadata": {},
   "outputs": [],
   "source": [
    "# Right OUTER JOIN"
   ]
  },
  {
   "cell_type": "code",
   "execution_count": 139,
   "metadata": {},
   "outputs": [
    {
     "data": {
      "text/plain": [
       "[(1, 'Paul', 32, 'IT Billing'), (2, 'Allen', 25, 'Engineering')]"
      ]
     },
     "execution_count": 139,
     "metadata": {},
     "output_type": "execute_result"
    }
   ],
   "source": [
    "# ALIAS Syntax:\n",
    "\n",
    "[x for x in c.execute(\"select c.id,c.name, c.age, d.dept from company1 as c,department as d where c.id = d.EMP_ID\")]"
   ]
  },
  {
   "cell_type": "code",
   "execution_count": 140,
   "metadata": {},
   "outputs": [
    {
     "data": {
      "text/plain": [
       "[(1, 'Paul', 32, 'IT Billing'), (2, 'Allen', 25, 'Engineering')]"
      ]
     },
     "execution_count": 140,
     "metadata": {},
     "output_type": "execute_result"
    }
   ],
   "source": [
    "[x for x in c.execute(\"select c.id as company_id,c.name as company_name, c.age, d.dept from company1 as c,department as d where c.id = d.EMP_ID\")]"
   ]
  },
  {
   "cell_type": "code",
   "execution_count": 141,
   "metadata": {},
   "outputs": [],
   "source": [
    "# Triggers : Triggers are database callback functions, which are automatically performed/invoked when a specified database event occurs."
   ]
  },
  {
   "cell_type": "code",
   "execution_count": null,
   "metadata": {},
   "outputs": [],
   "source": [
    "# ALter : SQLite ALTER TABLE command modifies an existing table\n",
    "\n",
    "# You can rename a table using ALTER TABLE statement and additional columns can be added in an existing table using ALTER TABLE statement."
   ]
  },
  {
   "cell_type": "code",
   "execution_count": 142,
   "metadata": {},
   "outputs": [
    {
     "data": {
      "text/plain": [
       "[]"
      ]
     },
     "execution_count": 142,
     "metadata": {},
     "output_type": "execute_result"
    }
   ],
   "source": [
    "# Rename the table using alter\n",
    "\n",
    "[x for x in c.execute(\"alter table company1 rename to old_company\")]"
   ]
  },
  {
   "cell_type": "code",
   "execution_count": 143,
   "metadata": {},
   "outputs": [
    {
     "data": {
      "text/plain": [
       "[(1, 'Paul', 32, 'California', 20000.0),\n",
       " (2, 'Allen', 25, 'Texas', 15000.0),\n",
       " (3, 'Teddy', 23, 'Norway', 20000.0),\n",
       " (4, 'Mark', 25, 'Rich-Mond ', 65000.0),\n",
       " (5, 'David', 27, 'Texas', 85000.0),\n",
       " (6, 'Kim', 22, 'South-Hall', 45000.0)]"
      ]
     },
     "execution_count": 143,
     "metadata": {},
     "output_type": "execute_result"
    }
   ],
   "source": [
    "[x for x in c.execute(\"select * from old_company\")]"
   ]
  },
  {
   "cell_type": "code",
   "execution_count": 145,
   "metadata": {},
   "outputs": [
    {
     "data": {
      "text/plain": [
       "<sqlite3.Cursor at 0x1a7f4bb93b0>"
      ]
     },
     "execution_count": 145,
     "metadata": {},
     "output_type": "execute_result"
    }
   ],
   "source": [
    "# Add column on the existing table\n",
    "\n",
    "c.execute(\"alter table old_company add column sex char(1)\")"
   ]
  },
  {
   "cell_type": "code",
   "execution_count": 147,
   "metadata": {},
   "outputs": [
    {
     "data": {
      "text/plain": [
       "[(1, 'Paul', 32, 'California', 20000.0, None),\n",
       " (2, 'Allen', 25, 'Texas', 15000.0, None),\n",
       " (3, 'Teddy', 23, 'Norway', 20000.0, None),\n",
       " (4, 'Mark', 25, 'Rich-Mond ', 65000.0, None),\n",
       " (5, 'David', 27, 'Texas', 85000.0, None),\n",
       " (6, 'Kim', 22, 'South-Hall', 45000.0, None)]"
      ]
     },
     "execution_count": 147,
     "metadata": {},
     "output_type": "execute_result"
    }
   ],
   "source": [
    "[x for x in c.execute(\"select * from old_company\")]"
   ]
  },
  {
   "cell_type": "code",
   "execution_count": 148,
   "metadata": {},
   "outputs": [],
   "source": [
    "# Truncate : not suppotred in in SQL Lites"
   ]
  },
  {
   "cell_type": "code",
   "execution_count": null,
   "metadata": {},
   "outputs": [],
   "source": [
    "# Views : A view is nothing more than a SQLite statement that is stored in the database with an associated name."
   ]
  },
  {
   "cell_type": "code",
   "execution_count": 159,
   "metadata": {},
   "outputs": [
    {
     "data": {
      "text/plain": [
       "<sqlite3.Cursor at 0x1a7f576d260>"
      ]
     },
     "execution_count": 159,
     "metadata": {},
     "output_type": "execute_result"
    }
   ],
   "source": [
    "c.execute(\"create view company_view2 as select id,name,age from old_company\")"
   ]
  },
  {
   "cell_type": "code",
   "execution_count": 161,
   "metadata": {},
   "outputs": [
    {
     "data": {
      "text/plain": [
       "[(1, 'Paul', 32),\n",
       " (2, 'Allen', 25),\n",
       " (3, 'Teddy', 23),\n",
       " (4, 'Mark', 25),\n",
       " (5, 'David', 27),\n",
       " (6, 'Kim', 22)]"
      ]
     },
     "execution_count": 161,
     "metadata": {},
     "output_type": "execute_result"
    }
   ],
   "source": [
    "[x for x in c.execute(\"select * from company_view2\")]"
   ]
  },
  {
   "cell_type": "code",
   "execution_count": 162,
   "metadata": {},
   "outputs": [],
   "source": [
    "# Dropping Views :  DROP VIEW view_name;"
   ]
  },
  {
   "cell_type": "code",
   "execution_count": 163,
   "metadata": {},
   "outputs": [],
   "source": [
    "# Subqueries with SELECT Statement\n",
    "\n",
    "# Subqueries with INSERT Statement\n",
    "\n",
    "# Subqueries with UPDATE Statement\n",
    "\n",
    "# Subqueries with DELETE Statement\n",
    "\n"
   ]
  },
  {
   "cell_type": "code",
   "execution_count": 168,
   "metadata": {},
   "outputs": [
    {
     "data": {
      "text/plain": [
       "<sqlite3.Cursor at 0x1a7f5549960>"
      ]
     },
     "execution_count": 168,
     "metadata": {},
     "output_type": "execute_result"
    }
   ],
   "source": [
    "# AUTOINCREMENT is a keyword used for auto incrementing a value of a field in the table\n",
    "\n",
    "c.execute(\"CREATE TABLE COMPANY3(ID INTEGER PRIMARY KEY AUTOINCREMENT,NAME TEXT NOT NULL,AGE INT NOT NULL,ADDRESS CHAR(50),SALARY REAL)\")"
   ]
  },
  {
   "cell_type": "code",
   "execution_count": 171,
   "metadata": {},
   "outputs": [],
   "source": [
    "c.execute(\"INSERT INTO COMPANY3 (NAME,AGE,ADDRESS,SALARY) VALUES ( 'Paul', 32, 'California', 20000.00 )\")\n",
    "\n",
    "c.execute(\"INSERT INTO COMPANY3 (NAME,AGE,ADDRESS,SALARY) VALUES ('Allen', 25, 'Texas', 15000.00 )\")\n",
    "\n",
    "c.execute(\"INSERT INTO COMPANY3 (NAME,AGE,ADDRESS,SALARY) VALUES ('Teddy', 23, 'Norway', 20000.00 )\")\n",
    "\n",
    "c.execute(\"INSERT INTO COMPANY3 (NAME,AGE,ADDRESS,SALARY) VALUES ( 'Mark', 25, 'Rich-Mond ', 65000.00 )\")\n",
    "\n",
    "c.execute(\"INSERT INTO COMPANY3 (NAME,AGE,ADDRESS,SALARY) VALUES ( 'David', 27, 'Texas', 85000.00 )\")\n",
    "\n",
    "c.execute(\"INSERT INTO COMPANY3 (NAME,AGE,ADDRESS,SALARY) VALUES ( 'Kim', 22, 'South-Hall', 45000.00 )\")\n",
    "\n",
    "c.execute(\"INSERT INTO COMPANY3 (NAME,AGE,ADDRESS,SALARY) VALUES ( 'James', 24, 'Houston', 10000.00 )\");"
   ]
  },
  {
   "cell_type": "code",
   "execution_count": 172,
   "metadata": {},
   "outputs": [
    {
     "data": {
      "text/plain": [
       "[(1, 'Paul', 32, 'California', 20000.0),\n",
       " (2, 'Allen', 25, 'Texas', 15000.0),\n",
       " (3, 'Teddy', 23, 'Norway', 20000.0),\n",
       " (4, 'Mark', 25, 'Rich-Mond ', 65000.0),\n",
       " (5, 'David', 27, 'Texas', 85000.0),\n",
       " (6, 'Kim', 22, 'South-Hall', 45000.0),\n",
       " (7, 'James', 24, 'Houston', 10000.0)]"
      ]
     },
     "execution_count": 172,
     "metadata": {},
     "output_type": "execute_result"
    }
   ],
   "source": [
    "[x for x in c.execute(\"select * from company3\")]"
   ]
  },
  {
   "cell_type": "code",
   "execution_count": null,
   "metadata": {},
   "outputs": [],
   "source": []
  }
 ],
 "metadata": {
  "kernelspec": {
   "display_name": "Python 3",
   "language": "python",
   "name": "python3"
  },
  "language_info": {
   "codemirror_mode": {
    "name": "ipython",
    "version": 3
   },
   "file_extension": ".py",
   "mimetype": "text/x-python",
   "name": "python",
   "nbconvert_exporter": "python",
   "pygments_lexer": "ipython3",
   "version": "3.7.4"
  }
 },
 "nbformat": 4,
 "nbformat_minor": 2
}
