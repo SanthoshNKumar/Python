{
 "cells": [
  {
   "cell_type": "code",
   "execution_count": 5,
   "metadata": {},
   "outputs": [
    {
     "name": "stdout",
     "output_type": "stream",
     "text": [
      "1\n",
      "2\n",
      "3\n",
      "4\n",
      "5\n",
      "-------------------\n",
      "10\n",
      "9\n",
      "8\n",
      "7\n",
      "6\n",
      "5\n",
      "4\n",
      "3\n",
      "2\n",
      "1\n",
      "-------------------\n",
      "2\n",
      "4\n",
      "-------------------\n",
      "1\n",
      "2\n",
      "3\n",
      "-------------------\n",
      "1\n",
      "2\n",
      "4\n",
      "5\n",
      "6\n",
      "-------------------\n"
     ]
    }
   ],
   "source": [
    "\n",
    "\n",
    "# While Loop :Check the if the condition is true then execute the function\n",
    "\n",
    "# print(1 to 6)\n",
    "i =1\n",
    "while i <6:\n",
    "    print(i)\n",
    "    i += 1\n",
    "\n",
    "print(\"-------------------\")\n",
    "# Print 10 to 1 in reverse order\n",
    "i = 10\n",
    "while i>=1:\n",
    "    print(i)\n",
    "    i -= 1\n",
    "print(\"-------------------\")\n",
    "\n",
    "\n",
    "# print(1 to 6 with condition of even numbers)\n",
    "i =1\n",
    "while i <6:\n",
    "    if(i %2 ==0):\n",
    "        print(i)\n",
    "    i += 1\n",
    "print(\"-------------------\")\n",
    "\n",
    "#print(1 to 6 and break at 3)\n",
    "i =1\n",
    "while i<6:\n",
    "    print(i)\n",
    "    if i ==3:\n",
    "        break;\n",
    "    i += 1\n",
    "print(\"-------------------\")\n",
    "\n",
    "# print(Continue to the next iteration if i is 3:)\n",
    "i =0\n",
    "while i < 6:\n",
    "  i += 1 \n",
    "  if i == 3:\n",
    "    continue\n",
    "  print(i)\n",
    "\n",
    "print(\"-------------------\")"
   ]
  },
  {
   "cell_type": "code",
   "execution_count": null,
   "metadata": {},
   "outputs": [],
   "source": []
  }
 ],
 "metadata": {
  "kernelspec": {
   "display_name": "Python 3",
   "language": "python",
   "name": "python3"
  },
  "language_info": {
   "codemirror_mode": {
    "name": "ipython",
    "version": 3
   },
   "file_extension": ".py",
   "mimetype": "text/x-python",
   "name": "python",
   "nbconvert_exporter": "python",
   "pygments_lexer": "ipython3",
   "version": "3.6.1"
  }
 },
 "nbformat": 4,
 "nbformat_minor": 2
}
