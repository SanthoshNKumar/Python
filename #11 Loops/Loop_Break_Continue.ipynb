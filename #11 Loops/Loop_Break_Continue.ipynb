{
 "cells": [
  {
   "cell_type": "code",
   "execution_count": 6,
   "metadata": {},
   "outputs": [
    {
     "name": "stdout",
     "output_type": "stream",
     "text": [
      "s\n",
      "t\n",
      "r\n",
      "\n",
      "\n",
      "s\n",
      "t\n",
      "r\n",
      "n\n",
      "g\n"
     ]
    }
   ],
   "source": [
    "# Break statement terminates the loop containing\n",
    "\n",
    "# Break the loop if value is 'i'\n",
    "for i in \"string\":\n",
    "    if i ==\"i\":\n",
    "        break\n",
    "    print(i)\n",
    "\n",
    "print(\"\\n\")\n",
    "\n",
    "# The continue statement is used to skip the rest of the code inside a loop for the current iteration only. \n",
    "# Loop does not terminate but continues on with the next iteration.\n",
    "for i in \"string\":\n",
    "    if i == 'i':\n",
    "        continue\n",
    "    print(i)\n",
    "\n"
   ]
  },
  {
   "cell_type": "code",
   "execution_count": null,
   "metadata": {},
   "outputs": [],
   "source": []
  }
 ],
 "metadata": {
  "kernelspec": {
   "display_name": "Python 3",
   "language": "python",
   "name": "python3"
  },
  "language_info": {
   "codemirror_mode": {
    "name": "ipython",
    "version": 3
   },
   "file_extension": ".py",
   "mimetype": "text/x-python",
   "name": "python",
   "nbconvert_exporter": "python",
   "pygments_lexer": "ipython3",
   "version": "3.6.1"
  }
 },
 "nbformat": 4,
 "nbformat_minor": 2
}
