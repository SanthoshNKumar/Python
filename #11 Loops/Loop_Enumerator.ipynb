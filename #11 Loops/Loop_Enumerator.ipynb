{
 "cells": [
  {
   "cell_type": "code",
   "execution_count": 10,
   "metadata": {},
   "outputs": [
    {
     "name": "stdout",
     "output_type": "stream",
     "text": [
      "\n",
      "\n",
      "[(0, 'eat'), (1, 'sleep'), (2, 'repeat')]\n",
      "\n",
      "\n",
      "[(0, 'g'), (1, 'e'), (2, 'e'), (3, 'k')]\n",
      "\n",
      "\n",
      "(0, 'eat')\n",
      "(1, 'sleep')\n",
      "(2, 'repeat')\n",
      "0 eat\n",
      "1 sleep\n",
      "2 repeat\n",
      "\n",
      "\n",
      "(100, 'eat')\n",
      "(101, 'sleep')\n",
      "(102, 'repeat')\n"
     ]
    }
   ],
   "source": [
    "# Enumerate() method adds a counter to an iterable and returns it in a form of enumerate object.\n",
    "\n",
    "# List\n",
    "l1 = [\"eat\",\"sleep\",\"repeat\"] \n",
    "s1 = \"geek\"\n",
    "\n",
    "print('\\n')\n",
    "print(list(enumerate(l1)))\n",
    "\n",
    "print('\\n')\n",
    "print(list(enumerate(s1)))\n",
    "\n",
    "print('\\n')\n",
    "# Using Enumerate Objects in loop\n",
    "for i in enumerate(l1):\n",
    "    print(i)\n",
    "\n",
    "for count, i in enumerate(l1):\n",
    "    print(count,i)\n",
    "\n",
    "print('\\n')\n",
    "# Changing the index and printing separately\n",
    "for i in enumerate(l1,100):\n",
    "    print(i)\n",
    "\n",
    "\n",
    "\n"
   ]
  },
  {
   "cell_type": "code",
   "execution_count": null,
   "metadata": {},
   "outputs": [],
   "source": []
  }
 ],
 "metadata": {
  "kernelspec": {
   "display_name": "Python 3",
   "language": "python",
   "name": "python3"
  },
  "language_info": {
   "codemirror_mode": {
    "name": "ipython",
    "version": 3
   },
   "file_extension": ".py",
   "mimetype": "text/x-python",
   "name": "python",
   "nbconvert_exporter": "python",
   "pygments_lexer": "ipython3",
   "version": "3.6.1"
  }
 },
 "nbformat": 4,
 "nbformat_minor": 2
}
