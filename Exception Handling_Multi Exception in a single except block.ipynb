{
 "cells": [
  {
   "cell_type": "code",
   "execution_count": null,
   "metadata": {},
   "outputs": [
    {
     "name": "stdout",
     "output_type": "stream",
     "text": [
      "Please enter a number\n",
      "5\n",
      "25.0\n"
     ]
    }
   ],
   "source": [
    "# Catch Multiple Exceptions\n",
    "import math\n",
    "\n",
    "def square(x):\n",
    "    if int(x) is 0:\n",
    "        raise ValueError(\"Input argument cannot be zero\")\n",
    "    if int(x) < 0:\n",
    "        raise TypeError(\"Input argument must be positive number\")\n",
    "    return math.pow(int(x),2)\n",
    "\n",
    "while True:\n",
    "    \n",
    "    try:\n",
    "        y = square(input(\"Please enter a number\\n\"))\n",
    "        print(y)\n",
    "    except (ValueError,TypeError) as e:\n",
    "           print(type(e),'::',e) "
   ]
  },
  {
   "cell_type": "code",
   "execution_count": null,
   "metadata": {},
   "outputs": [],
   "source": []
  }
 ],
 "metadata": {
  "kernelspec": {
   "display_name": "Python 3",
   "language": "python",
   "name": "python3"
  },
  "language_info": {
   "codemirror_mode": {
    "name": "ipython",
    "version": 3
   },
   "file_extension": ".py",
   "mimetype": "text/x-python",
   "name": "python",
   "nbconvert_exporter": "python",
   "pygments_lexer": "ipython3",
   "version": "3.6.1"
  }
 },
 "nbformat": 4,
 "nbformat_minor": 2
}
