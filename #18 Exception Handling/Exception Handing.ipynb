{
 "cells": [
  {
   "cell_type": "code",
   "execution_count": 14,
   "metadata": {},
   "outputs": [
    {
     "name": "stdout",
     "output_type": "stream",
     "text": [
      "An exception occurred\n",
      "varibale x is not defined\n",
      "Hello\n",
      "Nothing went wrong\n",
      "Something went wrong\n",
      "The 'try except' is finished\n"
     ]
    }
   ],
   "source": [
    "# The try block lets you test a block of code for errors.\n",
    "# The except block lets you handle the erro\n",
    "# The finally block lets you execute code, regardless of the result of the try- and except blocks.\n",
    "\n",
    "try:\n",
    "    print(X)\n",
    "    \n",
    "except:\n",
    "    print(\"An exception occurred\")\n",
    "\n",
    "\n",
    "# Many Exceptions : You can define as many exception blocks as you want\n",
    "\n",
    "try:\n",
    "    print(X)\n",
    "except NameError:\n",
    "    print(\"varibale x is not defined\")\n",
    "except:\n",
    "    print(\"Something else went wrong\")\n",
    "    \n",
    "\n",
    "# Else: You can use the else keyword to define a block of code to be executed if no errors were raised:\n",
    "try:\n",
    "     print(\"Hello\")\n",
    "except: \n",
    "    print(\"Something went wrong\")\n",
    "else:\n",
    "     print(\"Nothing went wrong\")\n",
    "        \n",
    "# Finally: The finally block, if specified, will be executed regardless if the try block raises an error or not.\n",
    "\n",
    "try:\n",
    "    print(x)\n",
    "except:\n",
    "    print(\"Something went wrong\")\n",
    "finally:\n",
    "    print(\"The 'try except' is finished\")\n",
    "\n",
    "\n"
   ]
  },
  {
   "cell_type": "code",
   "execution_count": null,
   "metadata": {},
   "outputs": [],
   "source": []
  }
 ],
 "metadata": {
  "kernelspec": {
   "display_name": "Python 3",
   "language": "python",
   "name": "python3"
  },
  "language_info": {
   "codemirror_mode": {
    "name": "ipython",
    "version": 3
   },
   "file_extension": ".py",
   "mimetype": "text/x-python",
   "name": "python",
   "nbconvert_exporter": "python",
   "pygments_lexer": "ipython3",
   "version": "3.6.1"
  }
 },
 "nbformat": 4,
 "nbformat_minor": 2
}
