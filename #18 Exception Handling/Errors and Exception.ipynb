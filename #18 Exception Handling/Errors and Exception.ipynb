{
 "cells": [
  {
   "cell_type": "code",
   "execution_count": null,
   "metadata": {},
   "outputs": [],
   "source": [
    "# Syntax Error :Invalid Syntax\n",
    "\n",
    "# ZeroDivisionError\n",
    "\n",
    "# Python Error and Python Exception Message\n",
    "\n",
    "# In-built Python Exception\n",
    "    # AssertionError\n",
    "    # AttributeError\n",
    "    # EOFError\n",
    "    # FloatingPointErrpr\n",
    "    # GeneratorExitError\n",
    "    # ImportError\n",
    "    # IndexError\n",
    "    # KeyError\n",
    "    # KeyboardInterrupt\n",
    "    # Memory Error\n",
    "    # Module NotFound Error\n",
    "    \n",
    "    # Name Error \n",
    "      # NotImplementedError\n",
    "      # OSError \n",
    "      # OverflowError\n",
    "      # ReferenceError\n",
    "      # RuntimeError \n",
    "      # StopIteration\n",
    "      # IndentationError \n",
    "      # TabError\n",
    "      # SystemError\n",
    "      # SystemExit\n",
    "      # TypeError \n",
    "      # UnboundLocalError\n",
    "      # UnicodeError\n",
    "      # UnicodeEncodeError\n",
    "      # UnicodeDecodeError \n",
    "      # UnicodeDecodeError\n",
    "      # UnicodeTranslateError\n",
    "      # ValueError\n",
    "      # ZeroDivisionError \n",
    "    "
   ]
  }
 ],
 "metadata": {
  "kernelspec": {
   "display_name": "Python 3",
   "language": "python",
   "name": "python3"
  },
  "language_info": {
   "codemirror_mode": {
    "name": "ipython",
    "version": 3
   },
   "file_extension": ".py",
   "mimetype": "text/x-python",
   "name": "python",
   "nbconvert_exporter": "python",
   "pygments_lexer": "ipython3",
   "version": "3.6.1"
  }
 },
 "nbformat": 4,
 "nbformat_minor": 2
}
