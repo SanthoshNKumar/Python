{
 "cells": [
  {
   "cell_type": "code",
   "execution_count": 22,
   "metadata": {},
   "outputs": [
    {
     "name": "stdout",
     "output_type": "stream",
     "text": [
      "Class B\n",
      "True\n",
      "1\n",
      "1\n",
      "2\n",
      "5\n"
     ]
    }
   ],
   "source": [
    "# Types of Inheritance Single;Multi Level;Multiple;Hierarchical;Hybrid\n",
    "\n",
    "\n",
    "# \"*************Single************************\"\n",
    "\n",
    "class A:\n",
    "        pass\n",
    "    \n",
    "class B(A):\n",
    "    print(\"Class B\")\n",
    "\n",
    "print(issubclass(B,A))\n",
    "\n",
    "\n",
    "#\"*************MultiLevel************************\"\n",
    "# When one class inherits from another, which in turn inherits from another, it is multilevel python inheritance.\n",
    "\n",
    "class A:\n",
    "    x =1\n",
    "class B(A):\n",
    "    pass\n",
    "class C(A):\n",
    "    pass\n",
    "\n",
    "obj = C()\n",
    "print(obj.x)\n",
    "\n",
    "#\"\"*************Multiple************************\"\n",
    "# A Class inherits from multiple base classes.\n",
    "class A:\n",
    "    x = 1\n",
    "class B:\n",
    "    y =2\n",
    "class C(A,B):\n",
    "    pass\n",
    "\n",
    "obj1 = C()\n",
    "print(obj1.x)\n",
    "print(obj1.y)\n",
    "\n",
    "#\"\"*************Hierarchical************************\"\n",
    "# When more than one class inherits from a class, it is hierarchical Python inheritance.\n",
    "class A:\n",
    "    x =5\n",
    "class B(A):\n",
    "    y =6\n",
    "class C(A):\n",
    "    pass\n",
    "obj2 = C()\n",
    "print(obj2.x)\n",
    "\n",
    "#\"\"*************Hybrid************************\"\n",
    "# Hybrid Python inheritance is a combination of any two kinds of inheritance.\n",
    "class A:\n",
    "    x =1\n",
    "class B(A):\n",
    "    pass\n",
    "class C(A):\n",
    "    pass\n",
    "class D(B,C):\n",
    "    pass\n"
   ]
  },
  {
   "cell_type": "code",
   "execution_count": null,
   "metadata": {},
   "outputs": [],
   "source": []
  },
  {
   "cell_type": "markdown",
   "metadata": {},
   "source": [
    "### Single Inheritance "
   ]
  },
  {
   "cell_type": "code",
   "execution_count": 4,
   "metadata": {},
   "outputs": [
    {
     "name": "stdout",
     "output_type": "stream",
     "text": [
      "Dog barking\n",
      "Animal Speaking\n"
     ]
    }
   ],
   "source": [
    "# Single Inheritance :  A class inherits from a single base class.\n",
    "\n",
    "# Create base class\n",
    "class Animal:\n",
    "    def speak(self):\n",
    "        print(\"Animal Speaking\")\n",
    "\n",
    "# Ctreate Derived Class\n",
    "class Dog(Animal):\n",
    "    def bark(self):\n",
    "        print(\"Dog barking\")\n",
    "\n",
    "\n",
    "d = Dog()\n",
    "\n",
    "d.bark()\n",
    "\n",
    "d.speak()"
   ]
  },
  {
   "cell_type": "code",
   "execution_count": null,
   "metadata": {},
   "outputs": [],
   "source": []
  },
  {
   "cell_type": "markdown",
   "metadata": {},
   "source": [
    "### Multiple Inheritance"
   ]
  },
  {
   "cell_type": "code",
   "execution_count": 6,
   "metadata": {},
   "outputs": [
    {
     "name": "stdout",
     "output_type": "stream",
     "text": [
      "7\n",
      "12\n",
      "0.75\n"
     ]
    }
   ],
   "source": [
    "# A class inherits from multiple base classes.\n",
    "\n",
    "class Calculation1:\n",
    "    def Summation(self,a,b):\n",
    "        return a+b\n",
    "    \n",
    "class Calculation2:\n",
    "    def Multiplication(self,a,b):\n",
    "        return a*b\n",
    "    \n",
    "    \n",
    "class DerivedClass(Calculation1,Calculation2):\n",
    "    def Divide(self,a,b):\n",
    "        return a/b\n",
    "    \n",
    "d = DerivedClass()\n",
    "\n",
    "print(d.Summation(3,4))\n",
    "print(d.Multiplication(3,4))\n",
    "print(d.Divide(3,4))\n",
    "\n"
   ]
  },
  {
   "cell_type": "code",
   "execution_count": null,
   "metadata": {},
   "outputs": [],
   "source": []
  },
  {
   "cell_type": "markdown",
   "metadata": {},
   "source": [
    "### Multi Level inheritance"
   ]
  },
  {
   "cell_type": "code",
   "execution_count": 7,
   "metadata": {},
   "outputs": [
    {
     "name": "stdout",
     "output_type": "stream",
     "text": [
      "Dog barking\n",
      "Animal Speaking\n",
      "Eating bread...\n"
     ]
    }
   ],
   "source": [
    "# A class inherits from a base class, which, in turn, inherits from another base class.\n",
    "\n",
    "# Base Class\n",
    "class Animal:\n",
    "    def speak(self):\n",
    "        print(\"Animal Speaking\")\n",
    "    \n",
    "# Derived  Class\n",
    "class Dog(Animal):\n",
    "    def bark(self):\n",
    "        print(\"Dog barking\")\n",
    "        \n",
    "# The child class Dogchild inherits another child class Dog\n",
    "class DogChild(Dog):\n",
    "    def eat(self):  \n",
    "        print(\"Eating bread...\")  \n",
    "        \n",
    "d = DogChild()  \n",
    "\n",
    "d.bark()\n",
    "d.speak()  \n",
    "d.eat() \n",
    "    "
   ]
  },
  {
   "cell_type": "code",
   "execution_count": null,
   "metadata": {},
   "outputs": [],
   "source": []
  },
  {
   "cell_type": "markdown",
   "metadata": {},
   "source": [
    "### Issubclass"
   ]
  },
  {
   "cell_type": "code",
   "execution_count": 8,
   "metadata": {},
   "outputs": [
    {
     "name": "stdout",
     "output_type": "stream",
     "text": [
      "True\n",
      "False\n"
     ]
    }
   ],
   "source": [
    "# A class inherits from multiple base classes.\n",
    "\n",
    "class Calculation1:\n",
    "    def Summation(self,a,b):\n",
    "        return a+b\n",
    "    \n",
    "class Calculation2:\n",
    "    def Multiplication(self,a,b):\n",
    "        return a*b\n",
    "    \n",
    "    \n",
    "class DerivedClass(Calculation1,Calculation2):\n",
    "    def Divide(self,a,b):\n",
    "        return a/b\n",
    "    \n",
    "\n",
    "d = DerivedClass()\n",
    "\n",
    "print(issubclass(DerivedClass,Calculation2))  \n",
    "print(issubclass(Calculation1,Calculation2))  "
   ]
  },
  {
   "cell_type": "code",
   "execution_count": null,
   "metadata": {},
   "outputs": [],
   "source": []
  },
  {
   "cell_type": "markdown",
   "metadata": {},
   "source": [
    "### Isinstance"
   ]
  },
  {
   "cell_type": "code",
   "execution_count": 10,
   "metadata": {},
   "outputs": [
    {
     "name": "stdout",
     "output_type": "stream",
     "text": [
      "True\n"
     ]
    }
   ],
   "source": [
    "# A class inherits from multiple base classes.\n",
    "\n",
    "class Calculation1:\n",
    "    def Summation(self,a,b):\n",
    "        return a+b\n",
    "    \n",
    "class Calculation2:\n",
    "    def Multiplication(self,a,b):\n",
    "        return a*b\n",
    "    \n",
    "    \n",
    "class DerivedClass(Calculation1,Calculation2):\n",
    "    def Divide(self,a,b):\n",
    "        return a/b\n",
    "\n",
    "    \n",
    "d = DerivedClass()  \n",
    "print(isinstance(d,DerivedClass))  "
   ]
  },
  {
   "cell_type": "code",
   "execution_count": null,
   "metadata": {},
   "outputs": [],
   "source": []
  },
  {
   "cell_type": "markdown",
   "metadata": {},
   "source": [
    "### Method Overriding"
   ]
  },
  {
   "cell_type": "code",
   "execution_count": 11,
   "metadata": {},
   "outputs": [
    {
     "name": "stdout",
     "output_type": "stream",
     "text": [
      "Barking\n"
     ]
    }
   ],
   "source": [
    "# \n",
    "\n",
    "class Animal:\n",
    "    def speak(self):\n",
    "        print('Speaking')\n",
    "\n",
    "class Dog(Animal):\n",
    "    def speak(self):\n",
    "        print(\"Barking\")\n",
    "\n",
    "d = Dog()\n",
    "d.speak()"
   ]
  },
  {
   "cell_type": "code",
   "execution_count": 14,
   "metadata": {},
   "outputs": [
    {
     "name": "stdout",
     "output_type": "stream",
     "text": [
      "Class B\n"
     ]
    }
   ],
   "source": [
    "#A subclass may change the functionality of a Python method in the superclass. \n",
    "\n",
    "class A:\n",
    "    def Add(self):\n",
    "        print(\"Class A\")\n",
    "\n",
    "class B(A):\n",
    "    def Add(self):\n",
    "        print(\"Class B\")\n",
    "\n",
    "obj = B()\n",
    "obj.Add()"
   ]
  },
  {
   "cell_type": "code",
   "execution_count": null,
   "metadata": {},
   "outputs": [],
   "source": []
  },
  {
   "cell_type": "markdown",
   "metadata": {},
   "source": [
    "### Super"
   ]
  },
  {
   "cell_type": "code",
   "execution_count": 13,
   "metadata": {},
   "outputs": [
    {
     "name": "stdout",
     "output_type": "stream",
     "text": [
      "Dog has four legs.\n",
      "Dog is a warm-blooded animal.\n"
     ]
    }
   ],
   "source": [
    "# Allows us to avoid using base class explicitly\n",
    "\n",
    "class Mammal(object):\n",
    "  def __init__(self, mammalName):\n",
    "    print(mammalName, 'is a warm-blooded animal.')\n",
    "    \n",
    "class Dog(Mammal):\n",
    "  def __init__(self):\n",
    "    print('Dog has four legs.')\n",
    "    super().__init__('Dog')\n",
    "    \n",
    "d1 = Dog()"
   ]
  },
  {
   "cell_type": "code",
   "execution_count": null,
   "metadata": {},
   "outputs": [],
   "source": []
  },
  {
   "cell_type": "code",
   "execution_count": null,
   "metadata": {},
   "outputs": [],
   "source": []
  }
 ],
 "metadata": {
  "kernelspec": {
   "display_name": "Python 3",
   "language": "python",
   "name": "python3"
  },
  "language_info": {
   "codemirror_mode": {
    "name": "ipython",
    "version": 3
   },
   "file_extension": ".py",
   "mimetype": "text/x-python",
   "name": "python",
   "nbconvert_exporter": "python",
   "pygments_lexer": "ipython3",
   "version": "3.7.4"
  }
 },
 "nbformat": 4,
 "nbformat_minor": 2
}
