{
 "cells": [
  {
   "cell_type": "code",
   "execution_count": 4,
   "metadata": {},
   "outputs": [],
   "source": [
    "# Writing to File\n",
    "import sys\n",
    "\n",
    "sys.stdout = open(\"output.txt\",'wt')\n",
    "print(\"Hello world\")\n",
    "print(\"We are printing to file\")\n",
    "\n",
    "# Deciding with each print Call\n",
    "print(\"Hello world\",file = open('output1.txt','a'))\n",
    "print(\"Wer are printing to file\",file = open('output1.txt','a'))\n",
    "\n",
    "# "
   ]
  },
  {
   "cell_type": "code",
   "execution_count": null,
   "metadata": {},
   "outputs": [],
   "source": []
  }
 ],
 "metadata": {
  "kernelspec": {
   "display_name": "Python 3",
   "language": "python",
   "name": "python3"
  },
  "language_info": {
   "codemirror_mode": {
    "name": "ipython",
    "version": 3
   },
   "file_extension": ".py",
   "mimetype": "text/x-python",
   "name": "python",
   "nbconvert_exporter": "python",
   "pygments_lexer": "ipython3",
   "version": "3.6.1"
  }
 },
 "nbformat": 4,
 "nbformat_minor": 2
}
