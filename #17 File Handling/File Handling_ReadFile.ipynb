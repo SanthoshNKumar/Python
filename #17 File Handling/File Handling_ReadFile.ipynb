{
 "cells": [
  {
   "cell_type": "code",
   "execution_count": 15,
   "metadata": {},
   "outputs": [
    {
     "name": "stdout",
     "output_type": "stream",
     "text": [
      "Hello world\n",
      "We are printing to file\n",
      "\n"
     ]
    }
   ],
   "source": [
    "\n",
    "# Read File\n",
    "text_file = open(\"output.txt\",'r')\n",
    "\n",
    "# Read the data in the file # Directory = /home/imtiaz/file.tx\n",
    "print(text_file.read())\n",
    "\n",
    "# get the list of line\n",
    "line_list = text_file.readlines()\n",
    "\n",
    "#for each line from the list, print the line\n",
    "for i in line_list:\n",
    "    print(i)\n"
   ]
  },
  {
   "cell_type": "code",
   "execution_count": null,
   "metadata": {},
   "outputs": [],
   "source": []
  }
 ],
 "metadata": {
  "kernelspec": {
   "display_name": "Python 3",
   "language": "python",
   "name": "python3"
  },
  "language_info": {
   "codemirror_mode": {
    "name": "ipython",
    "version": 3
   },
   "file_extension": ".py",
   "mimetype": "text/x-python",
   "name": "python",
   "nbconvert_exporter": "python",
   "pygments_lexer": "ipython3",
   "version": "3.6.1"
  }
 },
 "nbformat": 4,
 "nbformat_minor": 2
}
