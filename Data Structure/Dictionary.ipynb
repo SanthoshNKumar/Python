{
 "cells": [
  {
   "cell_type": "code",
   "execution_count": 1,
   "metadata": {},
   "outputs": [],
   "source": [
    "# Dictionary : Key value Pairs\n",
    "\n",
    "# Duplicate keys are not allowed\n",
    "# It will try to override with latest entry"
   ]
  },
  {
   "cell_type": "code",
   "execution_count": 2,
   "metadata": {},
   "outputs": [],
   "source": [
    "name = [\"Santhosh\",\"Anand\",\"Sachin\"]\n",
    "age= [32,34,35]\n",
    "\n",
    "dict = {\"Name\":name,\n",
    "        \"Age\":age,\n",
    "        \"Company\":[\"Zomoto\",\"Quicker\",\"FoodPanda\"]}"
   ]
  },
  {
   "cell_type": "code",
   "execution_count": 3,
   "metadata": {},
   "outputs": [
    {
     "data": {
      "text/plain": [
       "[32, 34, 35]"
      ]
     },
     "execution_count": 3,
     "metadata": {},
     "output_type": "execute_result"
    }
   ],
   "source": [
    "dict[\"Age\"]"
   ]
  },
  {
   "cell_type": "code",
   "execution_count": 4,
   "metadata": {},
   "outputs": [
    {
     "data": {
      "text/plain": [
       "{'Name': 'Santhosh', 'Age': 32}"
      ]
     },
     "execution_count": 4,
     "metadata": {},
     "output_type": "execute_result"
    }
   ],
   "source": [
    "dict = {\"Name\":\"Santhosh\",\"Age\":32}\n",
    "\n",
    "dict"
   ]
  },
  {
   "cell_type": "code",
   "execution_count": 5,
   "metadata": {},
   "outputs": [
    {
     "data": {
      "text/plain": [
       "{'Name': 'Anand', 'Age': 32}"
      ]
     },
     "execution_count": 5,
     "metadata": {},
     "output_type": "execute_result"
    }
   ],
   "source": [
    "# Duplicate keys are not allowed\n",
    "\n",
    "dict = {\"Name\":\"Santhosh\",\"Age\":32,\"Name\":\"Anand\"}\n",
    "\n",
    "dict"
   ]
  },
  {
   "cell_type": "code",
   "execution_count": 6,
   "metadata": {},
   "outputs": [
    {
     "data": {
      "text/plain": [
       "4"
      ]
     },
     "execution_count": 6,
     "metadata": {},
     "output_type": "execute_result"
    }
   ],
   "source": [
    "name = [\"Santhosh\",\"Anand\",\"Sachin\"]\n",
    "age= [32,34,35]\n",
    "subDict= {\"Project_Santhosh\":[1,2,3,4,5],\"Project_Anand\":[6,7,8,9,10],\"Projec_Sachin\":[11,12,1,31,4]}\n",
    "\n",
    "dict = {\"Name\":name,\n",
    "        \"Age\":age,\n",
    "        \"Company\":[\"ABB\",\"Dell\",\"Volvo\"],\n",
    "         \"Projects\":subDict}\n",
    "\n",
    "dict[\"Projects\"][\"Project_Santhosh\"][3]"
   ]
  },
  {
   "cell_type": "code",
   "execution_count": 7,
   "metadata": {},
   "outputs": [
    {
     "name": "stdout",
     "output_type": "stream",
     "text": [
      "['Santhosh', 'Anand', 'Sachin']\n",
      "[32, 34, 35]\n",
      "['ABB', 'Dell', 'Volvo']\n",
      "{'Project_Santhosh': [1, 2, 3, 4, 5], 'Project_Anand': [6, 7, 8, 9, 10], 'Projec_Sachin': [11, 12, 1, 31, 4]}\n"
     ]
    }
   ],
   "source": [
    "# for loop going to give all the list of items for all keys\n",
    "\n",
    "for i in dict:\n",
    "    print(dict[i])"
   ]
  },
  {
   "cell_type": "code",
   "execution_count": 8,
   "metadata": {},
   "outputs": [
    {
     "data": {
      "text/plain": [
       "dict_keys(['Name', 'Age', 'Company', 'Projects'])"
      ]
     },
     "execution_count": 8,
     "metadata": {},
     "output_type": "execute_result"
    }
   ],
   "source": [
    "dict.keys()"
   ]
  },
  {
   "cell_type": "code",
   "execution_count": 9,
   "metadata": {},
   "outputs": [
    {
     "data": {
      "text/plain": [
       "dict_items([('Name', ['Santhosh', 'Anand', 'Sachin']), ('Age', [32, 34, 35]), ('Company', ['ABB', 'Dell', 'Volvo']), ('Projects', {'Project_Santhosh': [1, 2, 3, 4, 5], 'Project_Anand': [6, 7, 8, 9, 10], 'Projec_Sachin': [11, 12, 1, 31, 4]})])"
      ]
     },
     "execution_count": 9,
     "metadata": {},
     "output_type": "execute_result"
    }
   ],
   "source": [
    "dict.items()"
   ]
  },
  {
   "cell_type": "code",
   "execution_count": 10,
   "metadata": {},
   "outputs": [
    {
     "data": {
      "text/plain": [
       "dict_values([['Santhosh', 'Anand', 'Sachin'], [32, 34, 35], ['ABB', 'Dell', 'Volvo'], {'Project_Santhosh': [1, 2, 3, 4, 5], 'Project_Anand': [6, 7, 8, 9, 10], 'Projec_Sachin': [11, 12, 1, 31, 4]}])"
      ]
     },
     "execution_count": 10,
     "metadata": {},
     "output_type": "execute_result"
    }
   ],
   "source": [
    "dict.values()"
   ]
  },
  {
   "cell_type": "code",
   "execution_count": 11,
   "metadata": {},
   "outputs": [
    {
     "data": {
      "text/plain": [
       "['Santhosh', 'Anand', 'Sachin']"
      ]
     },
     "execution_count": 11,
     "metadata": {},
     "output_type": "execute_result"
    }
   ],
   "source": [
    "# Key values based on the Key\n",
    "\n",
    "dict.get('Name')"
   ]
  },
  {
   "cell_type": "code",
   "execution_count": 12,
   "metadata": {},
   "outputs": [
    {
     "data": {
      "text/plain": [
       "[32, 34, 35]"
      ]
     },
     "execution_count": 12,
     "metadata": {},
     "output_type": "execute_result"
    }
   ],
   "source": [
    "dict.get('Age')"
   ]
  },
  {
   "cell_type": "code",
   "execution_count": 13,
   "metadata": {},
   "outputs": [
    {
     "name": "stdout",
     "output_type": "stream",
     "text": [
      "['Santhosh', 'Anand', 'Sachin']\n",
      "[32, 34, 35]\n",
      "['ABB', 'Dell', 'Volvo']\n",
      "{'Project_Santhosh': [1, 2, 3, 4, 5], 'Project_Anand': [6, 7, 8, 9, 10], 'Projec_Sachin': [11, 12, 1, 31, 4]}\n"
     ]
    }
   ],
   "source": [
    "for i in dict.keys():\n",
    "    print(dict.get(i))"
   ]
  },
  {
   "cell_type": "code",
   "execution_count": 14,
   "metadata": {},
   "outputs": [
    {
     "data": {
      "text/plain": [
       "{'Name': ['Santhosh', 'Anand', 'Sachin'],\n",
       " 'Age': [32, 34, 35],\n",
       " 'Company': ['ABB', 'Dell', 'Volvo'],\n",
       " 'Projects': {'Project_Santhosh': [1, 2, 3, 4, 5],\n",
       "  'Project_Anand': [6, 7, 8, 9, 10],\n",
       "  'Projec_Sachin': [11, 12, 1, 31, 4]}}"
      ]
     },
     "execution_count": 14,
     "metadata": {},
     "output_type": "execute_result"
    }
   ],
   "source": [
    "dict"
   ]
  },
  {
   "cell_type": "code",
   "execution_count": 15,
   "metadata": {},
   "outputs": [],
   "source": [
    "# Add New Keys and values\n",
    "\n",
    "dict[\"Salary\"] = [30000,40000,2000]"
   ]
  },
  {
   "cell_type": "code",
   "execution_count": 16,
   "metadata": {},
   "outputs": [
    {
     "data": {
      "text/plain": [
       "{'Name': ['Santhosh', 'Anand', 'Sachin'],\n",
       " 'Age': [32, 34, 35],\n",
       " 'Company': ['ABB', 'Dell', 'Volvo'],\n",
       " 'Projects': {'Project_Santhosh': [1, 2, 3, 4, 5],\n",
       "  'Project_Anand': [6, 7, 8, 9, 10],\n",
       "  'Projec_Sachin': [11, 12, 1, 31, 4]},\n",
       " 'Salary': [30000, 40000, 2000]}"
      ]
     },
     "execution_count": 16,
     "metadata": {},
     "output_type": "execute_result"
    }
   ],
   "source": [
    "dict"
   ]
  },
  {
   "cell_type": "code",
   "execution_count": 17,
   "metadata": {},
   "outputs": [
    {
     "data": {
      "text/plain": [
       "{0: 0, 1: 1, 2: 4, 3: 9, 4: 16, 5: 25}"
      ]
     },
     "execution_count": 17,
     "metadata": {},
     "output_type": "execute_result"
    }
   ],
   "source": [
    "# Dictionalry Comprehension\n",
    "\n",
    "{x: x*x for x in range(6)}"
   ]
  },
  {
   "cell_type": "code",
   "execution_count": 18,
   "metadata": {},
   "outputs": [
    {
     "data": {
      "text/plain": [
       "{1: 1, 3: 9, 5: 25, 7: 49, 9: 81}"
      ]
     },
     "execution_count": 18,
     "metadata": {},
     "output_type": "execute_result"
    }
   ],
   "source": [
    "# Dictionary Comprehension with if conditional\n",
    "odd_squares = {x: x*x for x in range(11) if x % 2 == 1}\n",
    "\n",
    "odd_squares"
   ]
  },
  {
   "cell_type": "code",
   "execution_count": 19,
   "metadata": {},
   "outputs": [
    {
     "name": "stdout",
     "output_type": "stream",
     "text": [
      "True\n",
      "True\n",
      "False\n"
     ]
    }
   ],
   "source": [
    "# Membership Test for Dictionary Keys\n",
    "squares = {1: 1, 3: 9, 5: 25, 7: 49, 9: 81}\n",
    "\n",
    "# Output: True\n",
    "print(1 in squares)\n",
    "\n",
    "# Output: True\n",
    "print(2 not in squares)\n",
    "\n",
    "# membership tests for key only not value\n",
    "# Output: False\n",
    "print(49 in squares)"
   ]
  },
  {
   "cell_type": "code",
   "execution_count": 20,
   "metadata": {},
   "outputs": [
    {
     "name": "stdout",
     "output_type": "stream",
     "text": [
      "{'a': 2, 'b': 4, 'c': 6, 'd': 8, 'e': 10}\n"
     ]
    }
   ],
   "source": [
    "dict1 = {'a': 1, 'b': 2, 'c': 3, 'd': 4, 'e': 5}\n",
    "\n",
    "double_dict1 = {k:v*2 for (k,v) in dict1.items()}\n",
    "\n",
    "print(double_dict1)"
   ]
  },
  {
   "cell_type": "code",
   "execution_count": 21,
   "metadata": {},
   "outputs": [
    {
     "data": {
      "text/plain": [
       "{'santhosh': False, 'kuamr': False, 'Anand': False, 'Joshi': False}"
      ]
     },
     "execution_count": 21,
     "metadata": {},
     "output_type": "execute_result"
    }
   ],
   "source": [
    "dict2 = [\"santhosh\",\"kuamr\",\"Anand\",'Joshi']\n",
    "d = {}\n",
    "\n",
    "for i in dict2:\n",
    "    d[i] = i.isupper()\n",
    "    \n",
    "d"
   ]
  },
  {
   "cell_type": "code",
   "execution_count": 22,
   "metadata": {},
   "outputs": [
    {
     "data": {
      "text/plain": [
       "{0: 0, 1: 1, 2: 4, 3: 9, 4: 16, 5: 25, 6: 36, 7: 49, 8: 64, 9: 81}"
      ]
     },
     "execution_count": 22,
     "metadata": {},
     "output_type": "execute_result"
    }
   ],
   "source": [
    "{i:i**2 for i in range(10)}"
   ]
  }
 ],
 "metadata": {
  "kernelspec": {
   "display_name": "Python 3",
   "language": "python",
   "name": "python3"
  },
  "language_info": {
   "codemirror_mode": {
    "name": "ipython",
    "version": 3
   },
   "file_extension": ".py",
   "mimetype": "text/x-python",
   "name": "python",
   "nbconvert_exporter": "python",
   "pygments_lexer": "ipython3",
   "version": "3.7.4"
  }
 },
 "nbformat": 4,
 "nbformat_minor": 2
}
