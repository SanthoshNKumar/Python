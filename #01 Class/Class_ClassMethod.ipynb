{
 "cells": [
  {
   "cell_type": "code",
   "execution_count": 9,
   "metadata": {},
   "outputs": [
    {
     "name": "stdout",
     "output_type": "stream",
     "text": [
      "Name Manu year 12\n"
     ]
    }
   ],
   "source": [
    "#Class Methods : @classmethod decorator\n",
    "# A class method is a method which is bound to the class and not the object of the class.\n",
    "# A class method takes cls as first parameter while a static method needs no specific parameters.\n",
    "# We generally use class method to create factory methods. \n",
    "# Factory methods return class object ( similar to a constructor ) for different use cases.\n",
    "\n",
    "class Person:\n",
    "    \n",
    "    @classmethod\n",
    "    def fromBirthYear(cls,name,year):\n",
    "        print(\"Name {} year {}\".format(name,year))\n",
    "\n",
    "person1 = Person.fromBirthYear(\"Manu\",12)\n",
    "\n"
   ]
  },
  {
   "cell_type": "code",
   "execution_count": null,
   "metadata": {},
   "outputs": [],
   "source": []
  },
  {
   "cell_type": "code",
   "execution_count": null,
   "metadata": {},
   "outputs": [],
   "source": []
  },
  {
   "cell_type": "code",
   "execution_count": null,
   "metadata": {},
   "outputs": [],
   "source": []
  },
  {
   "cell_type": "code",
   "execution_count": null,
   "metadata": {},
   "outputs": [],
   "source": []
  }
 ],
 "metadata": {
  "kernelspec": {
   "display_name": "Python 3",
   "language": "python",
   "name": "python3"
  },
  "language_info": {
   "codemirror_mode": {
    "name": "ipython",
    "version": 3
   },
   "file_extension": ".py",
   "mimetype": "text/x-python",
   "name": "python",
   "nbconvert_exporter": "python",
   "pygments_lexer": "ipython3",
   "version": "3.6.1"
  }
 },
 "nbformat": 4,
 "nbformat_minor": 2
}
