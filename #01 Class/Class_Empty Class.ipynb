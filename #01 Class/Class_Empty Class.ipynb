{
 "cells": [
  {
   "cell_type": "code",
   "execution_count": 2,
   "metadata": {},
   "outputs": [],
   "source": [
    "# Empty Class : \n",
    "class Employee:\n",
    "    pass"
   ]
  },
  {
   "cell_type": "code",
   "execution_count": 5,
   "metadata": {},
   "outputs": [
    {
     "name": "stdout",
     "output_type": "stream",
     "text": [
      "Employee1 : Santhosh Kumar\n",
      "Employee2 : Anand Joshi\n"
     ]
    }
   ],
   "source": [
    "employee1 = Employee()\n",
    "employee1.first_name = \"Santhosh\"\n",
    "employee1.last_name = \"Kumar\"\n",
    "\n",
    "employee2 = Employee()\n",
    "employee2.first_name = \"Anand\"\n",
    "employee2.last_name = \"Joshi\"\n",
    "\n",
    "print(\"Employee1 :\",employee1.first_name,employee1.last_name)\n",
    "print(\"Employee2 :\",employee2.first_name,employee2.last_name)"
   ]
  },
  {
   "cell_type": "code",
   "execution_count": null,
   "metadata": {},
   "outputs": [],
   "source": []
  }
 ],
 "metadata": {
  "kernelspec": {
   "display_name": "Python 3",
   "language": "python",
   "name": "python3"
  },
  "language_info": {
   "codemirror_mode": {
    "name": "ipython",
    "version": 3
   },
   "file_extension": ".py",
   "mimetype": "text/x-python",
   "name": "python",
   "nbconvert_exporter": "python",
   "pygments_lexer": "ipython3",
   "version": "3.6.1"
  }
 },
 "nbformat": 4,
 "nbformat_minor": 2
}
