{
 "cells": [
  {
   "cell_type": "code",
   "execution_count": 3,
   "metadata": {},
   "outputs": [
    {
     "name": "stdout",
     "output_type": "stream",
     "text": [
      "age:  23\n",
      "age:  30\n"
     ]
    }
   ],
   "source": [
    "# Static Methods: \n",
    "# Method which are decorated using Static Methods can be called using the class name person.greet(), as well as using the object.\n",
    "# We generally use static methods to create utility functions.\n",
    "\n",
    "class Person:\n",
    "   \n",
    "    @staticmethod\n",
    "    def isAdult(age):\n",
    "        print(\"age: \",age)\n",
    "\n",
    "Person.isAdult(23)\n",
    "\n",
    "# Create Object and call the function in a class\n",
    "person = Person()\n",
    "\n",
    "# Call the function using Class Name\n",
    "person.isAdult('30')"
   ]
  },
  {
   "cell_type": "code",
   "execution_count": null,
   "metadata": {},
   "outputs": [],
   "source": []
  }
 ],
 "metadata": {
  "kernelspec": {
   "display_name": "Python 3",
   "language": "python",
   "name": "python3"
  },
  "language_info": {
   "codemirror_mode": {
    "name": "ipython",
    "version": 3
   },
   "file_extension": ".py",
   "mimetype": "text/x-python",
   "name": "python",
   "nbconvert_exporter": "python",
   "pygments_lexer": "ipython3",
   "version": "3.6.1"
  }
 },
 "nbformat": 4,
 "nbformat_minor": 2
}
