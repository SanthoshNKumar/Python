{
 "cells": [
  {
   "cell_type": "markdown",
   "metadata": {},
   "source": [
    "#### Global varibales"
   ]
  },
  {
   "cell_type": "code",
   "execution_count": 3,
   "metadata": {},
   "outputs": [
    {
     "name": "stdout",
     "output_type": "stream",
     "text": [
      "Santhosh Kumar\n"
     ]
    }
   ],
   "source": [
    "# Variables declared outside a function. these can be accessed by any function in the program.\n",
    "\n",
    "name = \"Santhosh Kumar\" #Global Varibles\n",
    "\n",
    "def myfunction():\n",
    "    print(name)\n",
    "    \n",
    "myfunction()"
   ]
  },
  {
   "cell_type": "code",
   "execution_count": 6,
   "metadata": {},
   "outputs": [
    {
     "name": "stdout",
     "output_type": "stream",
     "text": [
      "101\n",
      "Hi\n"
     ]
    }
   ],
   "source": [
    "# Local & Global Variables\n",
    "# use the same variable for rest of your program or module you declare it a global variable, \n",
    "# while if you want to use the variable in a specific function or method, you use a local variable.\n",
    "\n",
    "f= 101\n",
    "print(f)\n",
    "\n",
    "def somefunction():\n",
    "    #global f\n",
    "    f = \"Hi\"\n",
    "    print(f)\n",
    "    \n",
    "somefunction()"
   ]
  },
  {
   "cell_type": "code",
   "execution_count": null,
   "metadata": {},
   "outputs": [],
   "source": []
  },
  {
   "cell_type": "markdown",
   "metadata": {},
   "source": [
    "#### Local Variables"
   ]
  },
  {
   "cell_type": "code",
   "execution_count": 4,
   "metadata": {},
   "outputs": [
    {
     "name": "stdout",
     "output_type": "stream",
     "text": [
      "Santhosh Kumar\n"
     ]
    }
   ],
   "source": [
    "def myfunction():\n",
    "    name = \"Santhosh Kumar\" # Local varibales\n",
    "    print(name)\n",
    "    \n",
    "myfunction()"
   ]
  },
  {
   "cell_type": "code",
   "execution_count": null,
   "metadata": {},
   "outputs": [],
   "source": []
  },
  {
   "cell_type": "markdown",
   "metadata": {},
   "source": [
    "#### Delete Varibales"
   ]
  },
  {
   "cell_type": "code",
   "execution_count": null,
   "metadata": {},
   "outputs": [],
   "source": [
    "# Declare a varibale and Initialize it\n",
    "f = 11;\n",
    "\n",
    "print(f)\n",
    "\n",
    "del f\n",
    "print(f)"
   ]
  },
  {
   "cell_type": "code",
   "execution_count": null,
   "metadata": {},
   "outputs": [],
   "source": []
  },
  {
   "cell_type": "markdown",
   "metadata": {},
   "source": [
    "#### String varibale Functions"
   ]
  },
  {
   "cell_type": "code",
   "execution_count": 8,
   "metadata": {},
   "outputs": [
    {
     "name": "stdout",
     "output_type": "stream",
     "text": [
      "Var1[1]: i\n",
      "Var1[last]: e\n",
      "var[2:5] ftw\n",
      "True\n",
      "False\n",
      "Hi 123\n",
      "HiSandy\n",
      "HiHiHiHiHi\n",
      "Hello Welcome\n",
      "HI WELCOME\n",
      "hi welcome\n",
      "H:i: :W:e:l:c:o:m:e\n",
      "54321\n",
      "['Hi', 'Welcome']\n",
      "Hi welcome\n",
      "True\n",
      "True\n",
      "Hi Welcome\n",
      "True\n",
      "Hi welcome welcome\n",
      "2\n",
      "1\n",
      "2\n",
      "4\n",
      "4\n",
      "4\n"
     ]
    }
   ],
   "source": [
    "# Accessing values in string\n",
    "var1 = \"Hi Welcome\"\n",
    "var2 = \"Software Testing\"\n",
    "\n",
    "# []: slice it gives the letter from the given index\n",
    "# [:] Range Slice\n",
    "\n",
    "\n",
    "# Get first character in the string\n",
    "print(\"Var1[1]:\",var1[1]) # output:Var1[1]: i\n",
    "\n",
    "# Get last character in the string\n",
    "print(\"Var1[last]:\",var1[-1]) # output: Var1[last]: e\n",
    "\n",
    "# Slicing Get the character between 2:5\n",
    "print(\"var[2:5]\",var2[2:5]) # output: var[2:5] ftw\n",
    "\n",
    "# Membership 'in'\n",
    "print(\"Hi\" in var1) # output: True\n",
    "\n",
    "# Membership 'not in'\n",
    "print(\"Hi\" not in var1) # output: False\n",
    "\n",
    "# print string format\n",
    "print(\"%s %d\" %(\"Hi\",123)) # output: Hi 123\n",
    "\n",
    "# Raw string\n",
    "\n",
    "# Concatenate\n",
    "print(\"Hi\" + \"Sandy\") # output: HiSandy\n",
    "\n",
    "# Repeat print\n",
    "print(\"Hi\"*5) # output: HiHiHiHiHi\n",
    "\n",
    "# Replace\n",
    "print(var1.replace(\"Hi\",\"Hello\"))  # output: Hello Welcome\n",
    "\n",
    "# Convert to Upper case\n",
    "print(var1.upper()) # output: HI WELCOME\n",
    "\n",
    "# Convert to lower case\n",
    "print(var1.lower()) # output: hi welcome\n",
    "\n",
    "# Add any character into the string\n",
    "print(\":\".join(var1)) # output: H:i: :W:e:l:c:o:m:e\n",
    "\n",
    "print(''.join(reversed(\"12345\"))) # output: 54321\n",
    "\n",
    "# Split string\n",
    "print(var1.split(' '))  # output: ['Hi', 'Welcome']\n",
    "\n",
    "# Capitalize\n",
    "print(var1.capitalize())\n",
    "\n",
    "print(var1.endswith('Welcome'))\n",
    "\n",
    "print(var1.startswith(\"Hi\"))\n",
    "\n",
    "print(var1.title())\n",
    "\n",
    "print(var1.istitle())\n",
    "\n",
    "# Define a Varibale\n",
    "name = \"Hi Welcome Welcome\"\n",
    "\n",
    "print(name.capitalize()) # output: Manju\n",
    "\n",
    "print(name.count(\"Welcome\")) # 2\n",
    "print(name.count(\"Welcome\",0,10)) # 1\n",
    "print(name.count(\"Welcome\",0,20)) # 2\n",
    "print(name.count(\"e\")) #  4\n",
    "\n",
    "# Using Lambda Expression\n",
    "count = sum(map(lambda x: 1 if 'e' in x else 0,name))\n",
    "print(count)\n",
    "\n",
    "# using Reualar Expression\n",
    "import re\n",
    "\n",
    "count1 =len(re.findall('e',name))\n",
    "print(count1)"
   ]
  },
  {
   "cell_type": "code",
   "execution_count": null,
   "metadata": {},
   "outputs": [],
   "source": []
  }
 ],
 "metadata": {
  "kernelspec": {
   "display_name": "Python 3",
   "language": "python",
   "name": "python3"
  },
  "language_info": {
   "codemirror_mode": {
    "name": "ipython",
    "version": 3
   },
   "file_extension": ".py",
   "mimetype": "text/x-python",
   "name": "python",
   "nbconvert_exporter": "python",
   "pygments_lexer": "ipython3",
   "version": "3.7.4"
  }
 },
 "nbformat": 4,
 "nbformat_minor": 2
}
