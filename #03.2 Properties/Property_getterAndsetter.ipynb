{
 "cells": [
  {
   "cell_type": "code",
   "execution_count": 20,
   "metadata": {},
   "outputs": [
    {
     "name": "stdout",
     "output_type": "stream",
     "text": [
      "setname() called\n",
      "getname() called\n"
     ]
    },
    {
     "data": {
      "text/plain": [
       "'David'"
      ]
     },
     "execution_count": 20,
     "metadata": {},
     "output_type": "execute_result"
    }
   ],
   "source": [
    "# Traditional object-oriented languages like Java and C# use properties in a class to encapsulate data.\n",
    "# Property includes the getter and setter method to access encapsulated data.\n",
    "# A class in Python can also include properties by using the property() function.\n",
    "\n",
    "class Person:\n",
    "    def __init__(self,name):\n",
    "        self.__name = name\n",
    "    \n",
    "    def setname(self,name):\n",
    "        print('setname() called')\n",
    "        self.__name = name\n",
    "    \n",
    "    def getname(self):\n",
    "        print('getname() called')\n",
    "        return self.__name\n",
    "    \n",
    "    def delname(self):\n",
    "        print('delname() called')\n",
    "        del self.__name\n",
    "    \n",
    "    name=property(getname, setname, delname)\n",
    "\n",
    "p1 = Person(\"John\")\n",
    "\n",
    "p1.name =\"David\"\n",
    "\n",
    "p1.name\n"
   ]
  },
  {
   "cell_type": "code",
   "execution_count": null,
   "metadata": {},
   "outputs": [],
   "source": []
  }
 ],
 "metadata": {
  "kernelspec": {
   "display_name": "Python 3",
   "language": "python",
   "name": "python3"
  },
  "language_info": {
   "codemirror_mode": {
    "name": "ipython",
    "version": 3
   },
   "file_extension": ".py",
   "mimetype": "text/x-python",
   "name": "python",
   "nbconvert_exporter": "python",
   "pygments_lexer": "ipython3",
   "version": "3.6.1"
  }
 },
 "nbformat": 4,
 "nbformat_minor": 2
}
