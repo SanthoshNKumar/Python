{
 "cells": [
  {
   "cell_type": "code",
   "execution_count": 5,
   "metadata": {},
   "outputs": [
    {
     "name": "stdout",
     "output_type": "stream",
     "text": [
      "Ferrari\n",
      "10\n",
      "10\n"
     ]
    }
   ],
   "source": [
    "# Syntax: [when_true] if [condition] else [when_false]\n",
    "# Syntax(Tuple): (when_false, when_true)[condition] \n",
    "\n",
    "\n",
    "# Example \n",
    "is_fast = True\n",
    "car = \"Ferrari\" if is_fast else \"Sedan\"\n",
    "print(car)\n",
    "\n",
    "\n",
    "\n",
    "# Example 2\n",
    "a,b = 10,20\n",
    "min = a if a<b else b\n",
    "print(min)\n",
    "\n",
    "# Example 2 : using tuple\n",
    "print( (b, a) [a < b] ) \n",
    "\n",
    "# "
   ]
  },
  {
   "cell_type": "code",
   "execution_count": null,
   "metadata": {},
   "outputs": [],
   "source": []
  }
 ],
 "metadata": {
  "kernelspec": {
   "display_name": "Python 3",
   "language": "python",
   "name": "python3"
  },
  "language_info": {
   "codemirror_mode": {
    "name": "ipython",
    "version": 3
   },
   "file_extension": ".py",
   "mimetype": "text/x-python",
   "name": "python",
   "nbconvert_exporter": "python",
   "pygments_lexer": "ipython3",
   "version": "3.6.1"
  }
 },
 "nbformat": 4,
 "nbformat_minor": 2
}
