{
 "cells": [
  {
   "cell_type": "code",
   "execution_count": 15,
   "metadata": {},
   "outputs": [
    {
     "name": "stdout",
     "output_type": "stream",
     "text": [
      "b= 200 is greater than a= 33\n"
     ]
    }
   ],
   "source": [
    "# Condision : if;elif;else;Short Hand if;Shirt Hand if..else;\n",
    "a = 33\n",
    "b = 200\n",
    "\n",
    "# If Condition\n",
    "\n",
    "if b > a:\n",
    "    print(\"b= {} is greater than a= {}\".format(b,a))"
   ]
  },
  {
   "cell_type": "code",
   "execution_count": 16,
   "metadata": {},
   "outputs": [
    {
     "name": "stdout",
     "output_type": "stream",
     "text": [
      "a and b are equal\n"
     ]
    }
   ],
   "source": [
    "#ElIf\n",
    "a = 33; b =33\n",
    "if b > a:\n",
    "    print(\"b is greater than a\")\n",
    "elif a ==b:\n",
    "    print(\"a and b are equal\")"
   ]
  },
  {
   "cell_type": "code",
   "execution_count": 17,
   "metadata": {},
   "outputs": [
    {
     "name": "stdout",
     "output_type": "stream",
     "text": [
      "a and b are equal\n"
     ]
    }
   ],
   "source": [
    "# Else\n",
    "if b > a:\n",
    "    print(\"b is greater than a\")\n",
    "elif a ==b:\n",
    "    print(\"a and b are equal\")\n",
    "else:\n",
    "    print(\"a is greater than b\")"
   ]
  },
  {
   "cell_type": "code",
   "execution_count": 18,
   "metadata": {},
   "outputs": [],
   "source": [
    "# Short Hand If\n",
    "if a>b:print(\"a is grater than b\")"
   ]
  },
  {
   "cell_type": "code",
   "execution_count": 19,
   "metadata": {},
   "outputs": [
    {
     "name": "stdout",
     "output_type": "stream",
     "text": [
      "B\n"
     ]
    }
   ],
   "source": [
    "# Short Hand If..Else\n",
    "print(\"A\") if a >b else print(\"B\")"
   ]
  },
  {
   "cell_type": "code",
   "execution_count": 20,
   "metadata": {},
   "outputs": [
    {
     "name": "stdout",
     "output_type": "stream",
     "text": [
      "=\n"
     ]
    }
   ],
   "source": [
    "# 3 Condition on one line\n",
    "print(\"A\") if a > b else print(\"=\") if a==b else print(\"B\")"
   ]
  },
  {
   "cell_type": "code",
   "execution_count": 21,
   "metadata": {},
   "outputs": [
    {
     "name": "stdout",
     "output_type": "stream",
     "text": [
      "Both the condition are True\n"
     ]
    }
   ],
   "source": [
    "a = 33;b = 44; c =55\n",
    "if a >b and c>a:  # And on If condition\n",
    "    print(\"Both the condition are True\")\n",
    "    \n",
    "if a >b or c>a: # or on If condition\n",
    "    print(\"Both the condition are True\")\n",
    "    "
   ]
  }
 ],
 "metadata": {
  "kernelspec": {
   "display_name": "Python 3",
   "language": "python",
   "name": "python3"
  },
  "language_info": {
   "codemirror_mode": {
    "name": "ipython",
    "version": 3
   },
   "file_extension": ".py",
   "mimetype": "text/x-python",
   "name": "python",
   "nbconvert_exporter": "python",
   "pygments_lexer": "ipython3",
   "version": "3.6.1"
  }
 },
 "nbformat": 4,
 "nbformat_minor": 2
}
