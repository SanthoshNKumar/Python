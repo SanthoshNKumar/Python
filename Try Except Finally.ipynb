{
 "cells": [
  {
   "cell_type": "code",
   "execution_count": 1,
   "metadata": {},
   "outputs": [],
   "source": [
    "# The try block lets you test a block of code for errors.\n",
    "\n",
    "# The except block lets you handle the error.\n",
    "\n",
    "# The finally block lets you execute code, regardless of the result of the try- and except blocks."
   ]
  },
  {
   "cell_type": "code",
   "execution_count": 2,
   "metadata": {},
   "outputs": [
    {
     "name": "stdout",
     "output_type": "stream",
     "text": [
      "An Exception occured\n"
     ]
    }
   ],
   "source": [
    "try:\n",
    "    print(x)\n",
    "except:\n",
    "    print(\"An Exception occured\")"
   ]
  },
  {
   "cell_type": "code",
   "execution_count": 3,
   "metadata": {},
   "outputs": [
    {
     "ename": "NameError",
     "evalue": "name 'NamedError' is not defined",
     "output_type": "error",
     "traceback": [
      "\u001b[1;31m---------------------------------------------------------------------------\u001b[0m",
      "\u001b[1;31mNameError\u001b[0m                                 Traceback (most recent call last)",
      "\u001b[1;32m<ipython-input-3-c74a7a9dfa52>\u001b[0m in \u001b[0;36m<module>\u001b[1;34m\u001b[0m\n\u001b[0;32m      3\u001b[0m \u001b[1;32mtry\u001b[0m\u001b[1;33m:\u001b[0m\u001b[1;33m\u001b[0m\u001b[1;33m\u001b[0m\u001b[0m\n\u001b[1;32m----> 4\u001b[1;33m     \u001b[0mprint\u001b[0m\u001b[1;33m(\u001b[0m\u001b[0mx\u001b[0m\u001b[1;33m)\u001b[0m\u001b[1;33m\u001b[0m\u001b[1;33m\u001b[0m\u001b[0m\n\u001b[0m\u001b[0;32m      5\u001b[0m \u001b[1;32mexcept\u001b[0m \u001b[0mNamedError\u001b[0m\u001b[1;33m:\u001b[0m\u001b[1;33m\u001b[0m\u001b[1;33m\u001b[0m\u001b[0m\n",
      "\u001b[1;31mNameError\u001b[0m: name 'x' is not defined",
      "\nDuring handling of the above exception, another exception occurred:\n",
      "\u001b[1;31mNameError\u001b[0m                                 Traceback (most recent call last)",
      "\u001b[1;32m<ipython-input-3-c74a7a9dfa52>\u001b[0m in \u001b[0;36m<module>\u001b[1;34m\u001b[0m\n\u001b[0;32m      3\u001b[0m \u001b[1;32mtry\u001b[0m\u001b[1;33m:\u001b[0m\u001b[1;33m\u001b[0m\u001b[1;33m\u001b[0m\u001b[0m\n\u001b[0;32m      4\u001b[0m     \u001b[0mprint\u001b[0m\u001b[1;33m(\u001b[0m\u001b[0mx\u001b[0m\u001b[1;33m)\u001b[0m\u001b[1;33m\u001b[0m\u001b[1;33m\u001b[0m\u001b[0m\n\u001b[1;32m----> 5\u001b[1;33m \u001b[1;32mexcept\u001b[0m \u001b[0mNamedError\u001b[0m\u001b[1;33m:\u001b[0m\u001b[1;33m\u001b[0m\u001b[1;33m\u001b[0m\u001b[0m\n\u001b[0m\u001b[0;32m      6\u001b[0m     \u001b[0mprint\u001b[0m\u001b[1;33m(\u001b[0m\u001b[1;34m\"varibales x is not defind\"\u001b[0m\u001b[1;33m)\u001b[0m\u001b[1;33m\u001b[0m\u001b[1;33m\u001b[0m\u001b[0m\n\u001b[0;32m      7\u001b[0m \u001b[1;32mexcept\u001b[0m\u001b[1;33m:\u001b[0m\u001b[1;33m\u001b[0m\u001b[1;33m\u001b[0m\u001b[0m\n",
      "\u001b[1;31mNameError\u001b[0m: name 'NamedError' is not defined"
     ]
    }
   ],
   "source": [
    "# Many Error\n",
    "\n",
    "try:\n",
    "    print(x)\n",
    "except NamedError:\n",
    "    print(\"varibales x is not defind\")\n",
    "except:\n",
    "    print(\"Something else went wrong\")"
   ]
  },
  {
   "cell_type": "code",
   "execution_count": null,
   "metadata": {},
   "outputs": [],
   "source": [
    "# Catching Specific Exceptions in Python\n",
    "\n",
    "try:\n",
    "   # do something\n",
    "   pass\n",
    "\n",
    "except ValueError:\n",
    "   # handle ValueError exception\n",
    "   pass\n",
    "\n",
    "except (TypeError, ZeroDivisionError):\n",
    "   # handle multiple exceptions\n",
    "   # TypeError and ZeroDivisionError\n",
    "   pass\n",
    "\n",
    "except:\n",
    "   # handle all other exceptions\n",
    "   pass"
   ]
  },
  {
   "cell_type": "code",
   "execution_count": null,
   "metadata": {},
   "outputs": [],
   "source": [
    "# In some situations, you might want to run a certain block of code if the code block inside try ran without any errors.\n",
    "# For these cases, you can use the optional else keyword with the try statement.\n",
    "\n",
    "# In Python, using the else statement, you can instruct a program to execute a certain block \n",
    "# of code only in the absence of exceptions.\n",
    "\n"
   ]
  },
  {
   "cell_type": "code",
   "execution_count": 7,
   "metadata": {},
   "outputs": [
    {
     "name": "stdout",
     "output_type": "stream",
     "text": [
      "10\n",
      "block executed from else\n"
     ]
    }
   ],
   "source": [
    "try:\n",
    "    print(x)\n",
    "except:\n",
    "    print(\"varibales x is not defind\")\n",
    "else:\n",
    "    # execute if no exception\n",
    "    print(\"block executed from else\")"
   ]
  },
  {
   "cell_type": "code",
   "execution_count": 9,
   "metadata": {},
   "outputs": [
    {
     "name": "stdout",
     "output_type": "stream",
     "text": [
      "Enter a number: 10\n",
      "0.1\n"
     ]
    }
   ],
   "source": [
    "# program to print the reciprocal of even numbers\n",
    "\n",
    "try:\n",
    "    num = int(input(\"Enter a number: \"))\n",
    "    assert num % 2 == 0\n",
    "except:\n",
    "    print(\"Not an even number!\")\n",
    "else:\n",
    "    reciprocal = 1/num\n",
    "    print(reciprocal)"
   ]
  },
  {
   "cell_type": "code",
   "execution_count": null,
   "metadata": {},
   "outputs": [],
   "source": [
    "# Finally Statement : This clause is executed no matter what, and is generally used to release external resources."
   ]
  },
  {
   "cell_type": "code",
   "execution_count": 8,
   "metadata": {},
   "outputs": [
    {
     "name": "stdout",
     "output_type": "stream",
     "text": [
      "Can't divide by zero\n",
      "This is always executed\n"
     ]
    }
   ],
   "source": [
    "# Finally Keyword in Python\n",
    "\n",
    "# No exception Exception raised in try block\n",
    "try:\n",
    "    k = 5//0 # raises divide by zero exception.\n",
    "    print(k)\n",
    "    \n",
    "# handles zerodivision exception    \n",
    "except ZeroDivisionError:   \n",
    "    print(\"Can't divide by zero\")\n",
    "        \n",
    "finally:\n",
    "    # this block is always executed \n",
    "    # regardless of exception generation.\n",
    "    print('This is always executed') "
   ]
  },
  {
   "cell_type": "code",
   "execution_count": 10,
   "metadata": {},
   "outputs": [
    {
     "name": "stdout",
     "output_type": "stream",
     "text": [
      "Received error: 2000\n"
     ]
    }
   ],
   "source": [
    "# Custom Exception\n",
    "\n",
    "class ErrorInCode(Exception):      \n",
    "    def __init__(self, data):      \n",
    "        self.data = data      \n",
    "    def __str__(self):      \n",
    "        return repr(self.data)      \n",
    "      \n",
    "try:      \n",
    "    raise ErrorInCode(2000)      \n",
    "except ErrorInCode as ae:      \n",
    "    print(\"Received error:\", ae.data)  "
   ]
  },
  {
   "cell_type": "code",
   "execution_count": 4,
   "metadata": {},
   "outputs": [
    {
     "name": "stdout",
     "output_type": "stream",
     "text": [
      "0\n",
      "division by zero\n",
      "This is the line at the end\n"
     ]
    }
   ],
   "source": [
    "# PrintEror\n",
    "\n",
    "try:\n",
    "    a = int(input())\n",
    "    b = 7/a\n",
    "except Exception as y:\n",
    "    print(y)\n",
    "print(\"This is the line at the end\")"
   ]
  },
  {
   "cell_type": "code",
   "execution_count": 5,
   "metadata": {},
   "outputs": [
    {
     "name": "stdout",
     "output_type": "stream",
     "text": [
      "name 'y' is not defined\n",
      "This is the line at the end\n"
     ]
    }
   ],
   "source": [
    "\n",
    "try:\n",
    "    a = int(input(y))\n",
    "    b = 7/a\n",
    "except Exception as y:\n",
    "    print(y)\n",
    "print(\"This is the line at the end\")"
   ]
  },
  {
   "cell_type": "code",
   "execution_count": 9,
   "metadata": {},
   "outputs": [
    {
     "name": "stdout",
     "output_type": "stream",
     "text": [
      "this is a file not found kind of error\n"
     ]
    }
   ],
   "source": [
    "try:\n",
    "    f = open(\"text.tx\")\n",
    "    f.write(\"My name is Santhosh\")\n",
    "    \n",
    "except FileExistsError as e:\n",
    "    print(e)\n",
    "except FileNotFoundError:\n",
    "    print(\"this is a file not found kind of error\")\n",
    "except ValueError:\n",
    "    print('Here we are going catch value error')\n",
    "except OSError:\n",
    "    print(\"This is an OSError\")\n",
    "except IOError:\n",
    "    print(\"This is an IO Error\")\n",
    "except Exception as e:\n",
    "    print(\"This is the superc\")"
   ]
  },
  {
   "cell_type": "code",
   "execution_count": 10,
   "metadata": {},
   "outputs": [
    {
     "name": "stdout",
     "output_type": "stream",
     "text": [
      "There is an error with this code\n"
     ]
    }
   ],
   "source": [
    "try:\n",
    "    f = open(\"text.txt\")\n",
    "    f.write(\"adasda\")\n",
    "except (OSError,FileExistsError,FileNotFoundError,ValueError,Exception):\n",
    "    print(\"There is an error with this code\")"
   ]
  },
  {
   "cell_type": "code",
   "execution_count": 11,
   "metadata": {},
   "outputs": [
    {
     "name": "stdout",
     "output_type": "stream",
     "text": [
      "try to insert an integerii\n",
      "invalid literal for int() with base 10: 'ii'\n"
     ]
    }
   ],
   "source": [
    "try:\n",
    "    v = int(input(\"try to insert an integer\"))\n",
    "    if v<2:\n",
    "        raise ValueError(\"This is not  a integer i was looking for\")\n",
    "except ValueError as e:\n",
    "    print(e)"
   ]
  },
  {
   "cell_type": "code",
   "execution_count": null,
   "metadata": {},
   "outputs": [],
   "source": []
  }
 ],
 "metadata": {
  "kernelspec": {
   "display_name": "Python 3",
   "language": "python",
   "name": "python3"
  },
  "language_info": {
   "codemirror_mode": {
    "name": "ipython",
    "version": 3
   },
   "file_extension": ".py",
   "mimetype": "text/x-python",
   "name": "python",
   "nbconvert_exporter": "python",
   "pygments_lexer": "ipython3",
   "version": "3.7.4"
  }
 },
 "nbformat": 4,
 "nbformat_minor": 2
}
