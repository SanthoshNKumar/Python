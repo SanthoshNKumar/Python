{
 "cells": [
  {
   "cell_type": "markdown",
   "metadata": {},
   "source": [
    "#### Constructors "
   ]
  },
  {
   "cell_type": "code",
   "execution_count": 2,
   "metadata": {},
   "outputs": [
    {
     "name": "stdout",
     "output_type": "stream",
     "text": [
      "ID 101 and Name John\n",
      "ID 102 and Name David\n"
     ]
    }
   ],
   "source": [
    "# A constructor is a special type of method (function) which is used to initialize the instance members of the class.\n",
    "# Constructors can be of two types.\n",
    "    # Parameterized Constructor\n",
    "    # Non-parameterized Constructor\n",
    "    \n",
    "class Employee:\n",
    "    def __init__(self,name,id):\n",
    "        self.id = id\n",
    "        self.name = name\n",
    "    \n",
    "    def display(self):\n",
    "        print(\"ID {} and Name {}\".format(self.id,self.name))\n",
    "\n",
    "empl = Employee(\"John\",101)\n",
    "emp2 = Employee(\"David\",102)\n",
    "\n",
    "empl.display()\n",
    "\n",
    "emp2.display()"
   ]
  },
  {
   "cell_type": "code",
   "execution_count": null,
   "metadata": {},
   "outputs": [],
   "source": []
  },
  {
   "cell_type": "markdown",
   "metadata": {},
   "source": [
    "#### Parameterized Constructors"
   ]
  },
  {
   "cell_type": "code",
   "execution_count": 3,
   "metadata": {},
   "outputs": [
    {
     "name": "stdout",
     "output_type": "stream",
     "text": [
      "This is parametirized constructor\n",
      "Hello Johan\n"
     ]
    }
   ],
   "source": [
    "# Constructor_Parameterized\n",
    "class Student:\n",
    "    def __init__(self,name):\n",
    "        print(\"This is parametirized constructor\")\n",
    "        self.name = name\n",
    "    \n",
    "    def show(self):\n",
    "        print(\"Hello\",self.name)\n",
    "\n",
    "student = Student(\"Johan\")\n",
    "student.show()"
   ]
  },
  {
   "cell_type": "markdown",
   "metadata": {},
   "source": [
    "#### NonParameterized Constructors"
   ]
  },
  {
   "cell_type": "code",
   "execution_count": 4,
   "metadata": {},
   "outputs": [
    {
     "name": "stdout",
     "output_type": "stream",
     "text": [
      "This is an non parameterized constructor\n",
      "Hello  John\n"
     ]
    }
   ],
   "source": [
    "class Employee:\n",
    "    \n",
    "    # Constructor - non parameterized\n",
    "    def __init__(self):\n",
    "        print(\"This is an non parameterized constructor\")\n",
    "\n",
    "    def show(self,name):\n",
    "        print(\"Hello \",name)\n",
    "\n",
    "student = Employee()\n",
    "student.show(\"John\")\n"
   ]
  },
  {
   "cell_type": "code",
   "execution_count": null,
   "metadata": {},
   "outputs": [],
   "source": []
  },
  {
   "cell_type": "markdown",
   "metadata": {},
   "source": [
    "#### Constuructor_CountObjectClass"
   ]
  },
  {
   "cell_type": "code",
   "execution_count": 5,
   "metadata": {},
   "outputs": [
    {
     "name": "stdout",
     "output_type": "stream",
     "text": [
      "The Number of students: 3\n"
     ]
    }
   ],
   "source": [
    "# Counting the number of objects of a class\n",
    "\n",
    "class Student:\n",
    "    count =0\n",
    "    def __init__(self):\n",
    "        Student.count = Student.count + 1\n",
    "\n",
    "s1 = Student()\n",
    "s2 = Student()\n",
    "s3 = Student()\n",
    "\n",
    "print(\"The Number of students:\",Student.count)"
   ]
  },
  {
   "cell_type": "code",
   "execution_count": null,
   "metadata": {},
   "outputs": [],
   "source": []
  },
  {
   "cell_type": "markdown",
   "metadata": {},
   "source": [
    "#### Destructors"
   ]
  },
  {
   "cell_type": "code",
   "execution_count": 6,
   "metadata": {},
   "outputs": [
    {
     "name": "stdout",
     "output_type": "stream",
     "text": [
      "Employee Created\n",
      "Destructor called,Employee deleted\n"
     ]
    }
   ],
   "source": [
    "# Destructors are called when an object gets destroyed. \n",
    "# In Python, destructors are not needed as much needed \n",
    "# in C++ because Python has a garbage collector that handles memory management automatically.\n",
    "\n",
    "# The __del__() method is a known as a destructor method in Python\n",
    "\n",
    "class Employee:\n",
    "    \n",
    "    # Initializing\n",
    "    def __init__(self):\n",
    "        print(\"Employee Created\")\n",
    "    \n",
    "    # Deleting (Calling destructor)\n",
    "    def __del__(self):\n",
    "        print(\"Destructor called,Employee deleted\")\n",
    "\n",
    "obj = Employee()\n",
    "del obj"
   ]
  },
  {
   "cell_type": "code",
   "execution_count": null,
   "metadata": {},
   "outputs": [],
   "source": []
  }
 ],
 "metadata": {
  "kernelspec": {
   "display_name": "Python 3",
   "language": "python",
   "name": "python3"
  },
  "language_info": {
   "codemirror_mode": {
    "name": "ipython",
    "version": 3
   },
   "file_extension": ".py",
   "mimetype": "text/x-python",
   "name": "python",
   "nbconvert_exporter": "python",
   "pygments_lexer": "ipython3",
   "version": "3.7.4"
  }
 },
 "nbformat": 4,
 "nbformat_minor": 2
}
